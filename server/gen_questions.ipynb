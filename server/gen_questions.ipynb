{
 "cells": [
  {
   "cell_type": "code",
   "execution_count": null,
   "id": "a2128ec0",
   "metadata": {},
   "outputs": [],
   "source": [
    "from google import genai\n",
    "from google.genai import types\n",
    "import json"
   ]
  },
  {
   "cell_type": "code",
   "execution_count": null,
   "id": "d170343f",
   "metadata": {},
   "outputs": [],
   "source": [
    "with open(\"secrets.json\") as f:\n",
    "    secrets = json.load(f)\n",
    "\n",
    "api_key = secrets[\"api_key\"]"
   ]
  },
  {
   "cell_type": "code",
   "execution_count": 3,
   "id": "14a9dad5",
   "metadata": {},
   "outputs": [],
   "source": [
    "def generate(input_text, chapter, section, file_name):\n",
    "    client = genai.Client(\n",
    "        api_key=api_key,\n",
    "    )\n",
    "\n",
    "    model = \"gemini-2.0-flash-thinking-exp-01-21\"\n",
    "\n",
    "    prompt = f\"\"\"Bạn có nhiệm vụ tạo ra 10 câu hỏi cho một đoạn văn bản được người dùng đưa ra để tạo ra bô dataset huấn luyện một hệ thống RAG. Các câu hỏi bạn đưa ra CẦN PHẢI có độ khó đa dạng từ thấp đến cao, không bị trùng lặp và không được để lộ là bạn đang hỏi về đoạn văn bản đó. Một câu hỏi được đưa ra phải có dạng 1 đoạn văn, các câu hỏi được ngăn cách bởi xuống dòng. Câu trả lời cưa bạn CHỈ được chứa các câu hỏi và CHỈ được trả lời bằng Tiếng Việt, KHÔNG ĐƯỢC PHÉP nói gì thêm trong câu trả lời.\n",
    "    \n",
    "    Đoạn văn bản:\n",
    "    {input_text}\n",
    "    \n",
    "    Thông tin thêm:\n",
    "    - Nguồn gốc văn bản:\n",
    "        + Tên: {file_name}\n",
    "        + Chương: {chapter}\n",
    "        + Điều: {section}\n",
    "    - Đây là văn bản quy chế của Đại học Bách khoa Hà Nội, bạn cần tạo ra các câu hỏi liên quan đến quy chế học tập của sinh viên.\n",
    "    \"\"\"\n",
    "\n",
    "    response = client.models.generate_content(\n",
    "        model=model,\n",
    "        contents=[prompt],\n",
    "    )\n",
    "    print(f\"Response: {response.text}\")\n",
    "\n",
    "    return list(response.text.split(\"\\n\"))\n"
   ]
  },
  {
   "cell_type": "code",
   "execution_count": 2,
   "id": "f59d5082",
   "metadata": {},
   "outputs": [],
   "source": [
    "import pandas as pd"
   ]
  },
  {
   "cell_type": "code",
   "execution_count": 5,
   "id": "80c535e5",
   "metadata": {},
   "outputs": [],
   "source": [
    "file = \"data/final.csv\"\n",
    "\n",
    "df = pd.read_csv(file)"
   ]
  },
  {
   "cell_type": "code",
   "execution_count": 29,
   "id": "da38d3fc",
   "metadata": {},
   "outputs": [
    {
     "name": "stdout",
     "output_type": "stream",
     "text": [
      "Processing row 149/149\n",
      "Response: Năm học nào quy định mới về đào tạo chính thức được áp dụng cho sinh viên?\n",
      "\n",
      "Những sinh viên nhập học vào năm 2022 cần đặc biệt lưu ý đến điểm nào trong quy chế mới này liên quan đến việc xét tốt nghiệp?\n",
      "\n",
      "Có sự khác biệt nào trong quy định về việc học cùng lúc hai chương trình giữa các khóa tuyển sinh khác nhau không? Nếu có, sự khác biệt đó là gì?\n",
      "\n",
      "Những sinh viên thuộc khóa nào và tốt nghiệp chương trình kỹ sư với thời gian đào tạo 5 năm sẽ được cấp bằng theo quyết định cụ thể nào của trường?\n",
      "\n",
      "Điều gì sẽ xảy ra với các quy định về đào tạo đã được ban hành trước đây nhưng lại không thống nhất với quy chế mới nhất?\n",
      "\n",
      "Trong quy chế mới, những nội dung nào không được áp dụng ngay từ năm học 2023-2024 mà lại có thời gian áp dụng khác biệt?\n",
      "\n",
      "Sinh viên có thể tìm hiểu thông tin chi tiết về quyết định số 66/QĐ-ĐHBK-ĐT ở đâu và quyết định này liên quan đến vấn đề gì trong đào tạo?\n",
      "\n",
      "Quy chế mới này có những điều chỉnh nào đáng chú ý về tiêu chuẩn xét tốt nghiệp so với các quy định trước đây không?\n",
      "\n",
      "Việc quy chế mới có hiệu lực thi hành từ năm học 2023-2024 mang ý nghĩa gì đối với công tác quản lý đào tạo của trường?\n",
      "\n",
      "Nếu sinh viên muốn tìm hiểu về toàn bộ nội dung của quy chế đào tạo mới nhất, họ nên tham khảo văn bản nào và ở đâu?\n"
     ]
    }
   ],
   "source": [
    "for i in range(148, 149):\n",
    "    print(f\"Processing row {i+1}/{len(df)}\")\n",
    "    df.at[i, \"questions\"] = generate(df.at[i, \"content\"], df.at[i, \"chapter\"], df.at[i, \"section\"], df.at[i, \"from\"])"
   ]
  },
  {
   "cell_type": "code",
   "execution_count": 18,
   "id": "4c601499",
   "metadata": {},
   "outputs": [],
   "source": [
    "df['questions'] = df['questions'].apply(lambda x: eval(x) if isinstance(x, str) else x)\n",
    "df = df.explode(\"questions\", ignore_index=True)\n",
    "df['questions'] = df['questions'].apply(lambda x: None if x == \"\" else x)\n",
    "df = df.dropna(subset=[\"questions\"])"
   ]
  },
  {
   "cell_type": "code",
   "execution_count": 19,
   "id": "51e6bc18",
   "metadata": {},
   "outputs": [
    {
     "data": {
      "application/vnd.microsoft.datawrangler.viewer.v0+json": {
       "columns": [
        {
         "name": "index",
         "rawType": "int64",
         "type": "integer"
        },
        {
         "name": "id",
         "rawType": "int64",
         "type": "integer"
        },
        {
         "name": "from",
         "rawType": "object",
         "type": "string"
        },
        {
         "name": "chapter",
         "rawType": "object",
         "type": "string"
        },
        {
         "name": "section",
         "rawType": "object",
         "type": "string"
        },
        {
         "name": "content",
         "rawType": "object",
         "type": "string"
        },
        {
         "name": "questions",
         "rawType": "object",
         "type": "string"
        }
       ],
       "conversionMethod": "pd.DataFrame",
       "ref": "dfd9dc1b-e855-4008-963f-c9af9af59109",
       "rows": [
        [
         "0",
         "937148",
         "Yêu cầu về Ngoại Ngữ 2021",
         "QUY ĐỊNH: Phân loại trình độ đầu vào và chương trình môn học và chuẩn ngoại ngữ yêu cầu đối với sinh viên đại học hệ chính quy",
         "Điều 1. Phạm vi và đối tượng áp dụng",
         "1. Văn bản này quy định về công tác tổ chức đánh giá và phân loại trình độ ngoại ngữ đầu vào; chương trình môn học ngoại ngữ; điều kiện được miễn học các học phần ngoại ngữ; chuẩn ngoại ngữ yêu cầu theo số lượng tín chỉ tích lũy và chuẩn ngoại ngữ đầu ra.\r\n2. Quy định này áp dụng cho sinh viên đại học hệ chính quy, không thuộc ngành Ngôn ngữ Anh của Đại học Bách khoa Hà Nội.\r\n3. Quy định này không áp dụng cho sinh viên là người nước ngoài đang học tại Đại học Bách khoa Hà Nội.",
         "Đâu là những yếu tố chính thường được đề cập đến trong các quy định về năng lực ngoại ngữ dành cho sinh viên đại học, đặc biệt là liên quan đến việc đánh giá trình độ đầu vào và yêu cầu chuẩn đầu ra?"
        ],
        [
         "2",
         "937148",
         "Yêu cầu về Ngoại Ngữ 2021",
         "QUY ĐỊNH: Phân loại trình độ đầu vào và chương trình môn học và chuẩn ngoại ngữ yêu cầu đối với sinh viên đại học hệ chính quy",
         "Điều 1. Phạm vi và đối tượng áp dụng",
         "1. Văn bản này quy định về công tác tổ chức đánh giá và phân loại trình độ ngoại ngữ đầu vào; chương trình môn học ngoại ngữ; điều kiện được miễn học các học phần ngoại ngữ; chuẩn ngoại ngữ yêu cầu theo số lượng tín chỉ tích lũy và chuẩn ngoại ngữ đầu ra.\r\n2. Quy định này áp dụng cho sinh viên đại học hệ chính quy, không thuộc ngành Ngôn ngữ Anh của Đại học Bách khoa Hà Nội.\r\n3. Quy định này không áp dụng cho sinh viên là người nước ngoài đang học tại Đại học Bách khoa Hà Nội.",
         "Những quy định về ngoại ngữ trong môi trường đại học thường áp dụng cho đối tượng sinh viên nào, và có những trường hợp ngoại lệ nào thường được xem xét không áp dụng?"
        ],
        [
         "4",
         "937148",
         "Yêu cầu về Ngoại Ngữ 2021",
         "QUY ĐỊNH: Phân loại trình độ đầu vào và chương trình môn học và chuẩn ngoại ngữ yêu cầu đối với sinh viên đại học hệ chính quy",
         "Điều 1. Phạm vi và đối tượng áp dụng",
         "1. Văn bản này quy định về công tác tổ chức đánh giá và phân loại trình độ ngoại ngữ đầu vào; chương trình môn học ngoại ngữ; điều kiện được miễn học các học phần ngoại ngữ; chuẩn ngoại ngữ yêu cầu theo số lượng tín chỉ tích lũy và chuẩn ngoại ngữ đầu ra.\r\n2. Quy định này áp dụng cho sinh viên đại học hệ chính quy, không thuộc ngành Ngôn ngữ Anh của Đại học Bách khoa Hà Nội.\r\n3. Quy định này không áp dụng cho sinh viên là người nước ngoài đang học tại Đại học Bách khoa Hà Nội.",
         "Ngoài việc quy định về chuẩn đầu ra, một văn bản về yêu cầu ngoại ngữ cho sinh viên đại học có thể bao gồm những nội dung nào khác liên quan đến quá trình học tập và đánh giá năng lực ngoại ngữ của sinh viên?"
        ],
        [
         "6",
         "937148",
         "Yêu cầu về Ngoại Ngữ 2021",
         "QUY ĐỊNH: Phân loại trình độ đầu vào và chương trình môn học và chuẩn ngoại ngữ yêu cầu đối với sinh viên đại học hệ chính quy",
         "Điều 1. Phạm vi và đối tượng áp dụng",
         "1. Văn bản này quy định về công tác tổ chức đánh giá và phân loại trình độ ngoại ngữ đầu vào; chương trình môn học ngoại ngữ; điều kiện được miễn học các học phần ngoại ngữ; chuẩn ngoại ngữ yêu cầu theo số lượng tín chỉ tích lũy và chuẩn ngoại ngữ đầu ra.\r\n2. Quy định này áp dụng cho sinh viên đại học hệ chính quy, không thuộc ngành Ngôn ngữ Anh của Đại học Bách khoa Hà Nội.\r\n3. Quy định này không áp dụng cho sinh viên là người nước ngoài đang học tại Đại học Bách khoa Hà Nội.",
         "Trong hệ thống giáo dục đại học, việc phân loại trình độ ngoại ngữ đầu vào của sinh viên có vai trò quan trọng như thế nào đối với việc xây dựng chương trình đào tạo và hỗ trợ học tập cho sinh viên?"
        ],
        [
         "8",
         "937148",
         "Yêu cầu về Ngoại Ngữ 2021",
         "QUY ĐỊNH: Phân loại trình độ đầu vào và chương trình môn học và chuẩn ngoại ngữ yêu cầu đối với sinh viên đại học hệ chính quy",
         "Điều 1. Phạm vi và đối tượng áp dụng",
         "1. Văn bản này quy định về công tác tổ chức đánh giá và phân loại trình độ ngoại ngữ đầu vào; chương trình môn học ngoại ngữ; điều kiện được miễn học các học phần ngoại ngữ; chuẩn ngoại ngữ yêu cầu theo số lượng tín chỉ tích lũy và chuẩn ngoại ngữ đầu ra.\r\n2. Quy định này áp dụng cho sinh viên đại học hệ chính quy, không thuộc ngành Ngôn ngữ Anh của Đại học Bách khoa Hà Nội.\r\n3. Quy định này không áp dụng cho sinh viên là người nước ngoài đang học tại Đại học Bách khoa Hà Nội.",
         "Những sinh viên thuộc hệ đào tạo chính quy tại các trường đại học thường chịu sự điều chỉnh của những quy định nào liên quan đến việc học và đạt chuẩn ngoại ngữ?"
        ],
        [
         "10",
         "937148",
         "Yêu cầu về Ngoại Ngữ 2021",
         "QUY ĐỊNH: Phân loại trình độ đầu vào và chương trình môn học và chuẩn ngoại ngữ yêu cầu đối với sinh viên đại học hệ chính quy",
         "Điều 1. Phạm vi và đối tượng áp dụng",
         "1. Văn bản này quy định về công tác tổ chức đánh giá và phân loại trình độ ngoại ngữ đầu vào; chương trình môn học ngoại ngữ; điều kiện được miễn học các học phần ngoại ngữ; chuẩn ngoại ngữ yêu cầu theo số lượng tín chỉ tích lũy và chuẩn ngoại ngữ đầu ra.\r\n2. Quy định này áp dụng cho sinh viên đại học hệ chính quy, không thuộc ngành Ngôn ngữ Anh của Đại học Bách khoa Hà Nội.\r\n3. Quy định này không áp dụng cho sinh viên là người nước ngoài đang học tại Đại học Bách khoa Hà Nội.",
         "Điều gì có thể lý giải cho việc một số quy định về ngoại ngữ lại không áp dụng cho sinh viên quốc tế đang theo học tại một trường đại học ở Việt Nam?"
        ],
        [
         "12",
         "937148",
         "Yêu cầu về Ngoại Ngữ 2021",
         "QUY ĐỊNH: Phân loại trình độ đầu vào và chương trình môn học và chuẩn ngoại ngữ yêu cầu đối với sinh viên đại học hệ chính quy",
         "Điều 1. Phạm vi và đối tượng áp dụng",
         "1. Văn bản này quy định về công tác tổ chức đánh giá và phân loại trình độ ngoại ngữ đầu vào; chương trình môn học ngoại ngữ; điều kiện được miễn học các học phần ngoại ngữ; chuẩn ngoại ngữ yêu cầu theo số lượng tín chỉ tích lũy và chuẩn ngoại ngữ đầu ra.\r\n2. Quy định này áp dụng cho sinh viên đại học hệ chính quy, không thuộc ngành Ngôn ngữ Anh của Đại học Bách khoa Hà Nội.\r\n3. Quy định này không áp dụng cho sinh viên là người nước ngoài đang học tại Đại học Bách khoa Hà Nội.",
         "Ngoài chương trình môn học ngoại ngữ, sinh viên đại học cần đáp ứng những điều kiện gì để được xem xét miễn học các học phần ngoại ngữ trong quá trình đào tạo?"
        ],
        [
         "14",
         "937148",
         "Yêu cầu về Ngoại Ngữ 2021",
         "QUY ĐỊNH: Phân loại trình độ đầu vào và chương trình môn học và chuẩn ngoại ngữ yêu cầu đối với sinh viên đại học hệ chính quy",
         "Điều 1. Phạm vi và đối tượng áp dụng",
         "1. Văn bản này quy định về công tác tổ chức đánh giá và phân loại trình độ ngoại ngữ đầu vào; chương trình môn học ngoại ngữ; điều kiện được miễn học các học phần ngoại ngữ; chuẩn ngoại ngữ yêu cầu theo số lượng tín chỉ tích lũy và chuẩn ngoại ngữ đầu ra.\r\n2. Quy định này áp dụng cho sinh viên đại học hệ chính quy, không thuộc ngành Ngôn ngữ Anh của Đại học Bách khoa Hà Nội.\r\n3. Quy định này không áp dụng cho sinh viên là người nước ngoài đang học tại Đại học Bách khoa Hà Nội.",
         "Việc xác định chuẩn ngoại ngữ yêu cầu theo số lượng tín chỉ tích lũy có ý nghĩa gì trong việc đảm bảo chất lượng đào tạo và định hướng phát triển năng lực ngoại ngữ cho sinh viên?"
        ],
        [
         "16",
         "937148",
         "Yêu cầu về Ngoại Ngữ 2021",
         "QUY ĐỊNH: Phân loại trình độ đầu vào và chương trình môn học và chuẩn ngoại ngữ yêu cầu đối với sinh viên đại học hệ chính quy",
         "Điều 1. Phạm vi và đối tượng áp dụng",
         "1. Văn bản này quy định về công tác tổ chức đánh giá và phân loại trình độ ngoại ngữ đầu vào; chương trình môn học ngoại ngữ; điều kiện được miễn học các học phần ngoại ngữ; chuẩn ngoại ngữ yêu cầu theo số lượng tín chỉ tích lũy và chuẩn ngoại ngữ đầu ra.\r\n2. Quy định này áp dụng cho sinh viên đại học hệ chính quy, không thuộc ngành Ngôn ngữ Anh của Đại học Bách khoa Hà Nội.\r\n3. Quy định này không áp dụng cho sinh viên là người nước ngoài đang học tại Đại học Bách khoa Hà Nội.",
         "Các quy định về chuẩn ngoại ngữ đầu ra thường được thiết kế để đánh giá những khía cạnh nào trong năng lực sử dụng ngoại ngữ của sinh viên khi tốt nghiệp?"
        ],
        [
         "18",
         "937148",
         "Yêu cầu về Ngoại Ngữ 2021",
         "QUY ĐỊNH: Phân loại trình độ đầu vào và chương trình môn học và chuẩn ngoại ngữ yêu cầu đối với sinh viên đại học hệ chính quy",
         "Điều 1. Phạm vi và đối tượng áp dụng",
         "1. Văn bản này quy định về công tác tổ chức đánh giá và phân loại trình độ ngoại ngữ đầu vào; chương trình môn học ngoại ngữ; điều kiện được miễn học các học phần ngoại ngữ; chuẩn ngoại ngữ yêu cầu theo số lượng tín chỉ tích lũy và chuẩn ngoại ngữ đầu ra.\r\n2. Quy định này áp dụng cho sinh viên đại học hệ chính quy, không thuộc ngành Ngôn ngữ Anh của Đại học Bách khoa Hà Nội.\r\n3. Quy định này không áp dụng cho sinh viên là người nước ngoài đang học tại Đại học Bách khoa Hà Nội.",
         "Trong bối cảnh một trường đại học đa ngành như Đại học Bách khoa Hà Nội, việc ban hành các quy định riêng về ngoại ngữ cho sinh viên không thuộc chuyên ngành ngôn ngữ Anh có mục tiêu và ý nghĩa gì?"
        ],
        [
         "19",
         "398526",
         "Yêu cầu về Ngoại Ngữ 2021",
         "QUY ĐỊNH: Phân loại trình độ đầu vào và chương trình môn học và chuẩn ngoại ngữ yêu cầu đối với sinh viên đại học hệ chính quy",
         "Điều 2. Phân loại trình độ đầu vào và phân lớp học ngoại ngữ",
         "1. Căn cứ phân loại trình độ ngoại ngữ đầu vào với sinh viên thuộc chương trình đào tạo có yêu cầu chuẩn đầu ra là tiếng Anh:\r\na, Đối với các sinh viên thuộc chương trình đào tạo chuẩn: phân loại dựa trên điểm thi môn tiếng Anh của kỳ thi tốt nghiệp THPT tại năm nhập học hoặc chứng chỉ tiếng Anh quốc tế;\r\nb, Đối với các sinh viên thuộc các chương trình đào tạo tiên tiến, tài năng và chương trình hợp tác quốc tế: phân loại dựa trên kết quả kiểm tra tiếng Anh nội bộ đầu khóa hoặc chứng chỉ tiếng Anh quốc tế;\r\n2. Căn cứ phân loại trình độ ngoại ngữ đầu vào với sinh viên thuộc chương trình đào tạo có yêu cầu chuẩn đầu ra là ngoại ngữ khác tiếng Anh:phân loại dựa trên điểm thi môn ngoại ngữ tương ứng của kỳ thi tốt nghiệp THPT tại năm nhập học hoặc dựa trên chứng chỉ quốc tế của ngôn ngữ tương ứng.\r\n3. Căn cứ trên kết quả phân loại trình độ ngoại ngữ đầu vào, sinh viên được xét miễn học các học phần theo quy định và được xếp lớp học ngoại ngữ tương ứng.\r\n4. Sinh viên không đáp ứng điều kiện phân loại trình độ ngoại ngữ theo khoản 1 hoặc khoản 2 của điều này sẽ phải học toàn bộ các học phần ngoại ngữ tương ứng với từng chương trình đào tạo theo lộ trình quy định.",
         "Để xác định trình độ ngoại ngữ ban đầu, sinh viên theo học chương trình tiêu chuẩn thường cần cung cấp những loại giấy tờ hoặc bằng cấp nào khi nhập học?"
        ],
        [
         "21",
         "398526",
         "Yêu cầu về Ngoại Ngữ 2021",
         "QUY ĐỊNH: Phân loại trình độ đầu vào và chương trình môn học và chuẩn ngoại ngữ yêu cầu đối với sinh viên đại học hệ chính quy",
         "Điều 2. Phân loại trình độ đầu vào và phân lớp học ngoại ngữ",
         "1. Căn cứ phân loại trình độ ngoại ngữ đầu vào với sinh viên thuộc chương trình đào tạo có yêu cầu chuẩn đầu ra là tiếng Anh:\r\na, Đối với các sinh viên thuộc chương trình đào tạo chuẩn: phân loại dựa trên điểm thi môn tiếng Anh của kỳ thi tốt nghiệp THPT tại năm nhập học hoặc chứng chỉ tiếng Anh quốc tế;\r\nb, Đối với các sinh viên thuộc các chương trình đào tạo tiên tiến, tài năng và chương trình hợp tác quốc tế: phân loại dựa trên kết quả kiểm tra tiếng Anh nội bộ đầu khóa hoặc chứng chỉ tiếng Anh quốc tế;\r\n2. Căn cứ phân loại trình độ ngoại ngữ đầu vào với sinh viên thuộc chương trình đào tạo có yêu cầu chuẩn đầu ra là ngoại ngữ khác tiếng Anh:phân loại dựa trên điểm thi môn ngoại ngữ tương ứng của kỳ thi tốt nghiệp THPT tại năm nhập học hoặc dựa trên chứng chỉ quốc tế của ngôn ngữ tương ứng.\r\n3. Căn cứ trên kết quả phân loại trình độ ngoại ngữ đầu vào, sinh viên được xét miễn học các học phần theo quy định và được xếp lớp học ngoại ngữ tương ứng.\r\n4. Sinh viên không đáp ứng điều kiện phân loại trình độ ngoại ngữ theo khoản 1 hoặc khoản 2 của điều này sẽ phải học toàn bộ các học phần ngoại ngữ tương ứng với từng chương trình đào tạo theo lộ trình quy định.",
         "Có sự khác biệt nào trong cách thức phân loại trình độ tiếng Anh đầu vào giữa chương trình đào tạo thông thường và các chương trình đào tạo đặc biệt như chương trình tiên tiến hoặc tài năng hay không?"
        ],
        [
         "23",
         "398526",
         "Yêu cầu về Ngoại Ngữ 2021",
         "QUY ĐỊNH: Phân loại trình độ đầu vào và chương trình môn học và chuẩn ngoại ngữ yêu cầu đối với sinh viên đại học hệ chính quy",
         "Điều 2. Phân loại trình độ đầu vào và phân lớp học ngoại ngữ",
         "1. Căn cứ phân loại trình độ ngoại ngữ đầu vào với sinh viên thuộc chương trình đào tạo có yêu cầu chuẩn đầu ra là tiếng Anh:\r\na, Đối với các sinh viên thuộc chương trình đào tạo chuẩn: phân loại dựa trên điểm thi môn tiếng Anh của kỳ thi tốt nghiệp THPT tại năm nhập học hoặc chứng chỉ tiếng Anh quốc tế;\r\nb, Đối với các sinh viên thuộc các chương trình đào tạo tiên tiến, tài năng và chương trình hợp tác quốc tế: phân loại dựa trên kết quả kiểm tra tiếng Anh nội bộ đầu khóa hoặc chứng chỉ tiếng Anh quốc tế;\r\n2. Căn cứ phân loại trình độ ngoại ngữ đầu vào với sinh viên thuộc chương trình đào tạo có yêu cầu chuẩn đầu ra là ngoại ngữ khác tiếng Anh:phân loại dựa trên điểm thi môn ngoại ngữ tương ứng của kỳ thi tốt nghiệp THPT tại năm nhập học hoặc dựa trên chứng chỉ quốc tế của ngôn ngữ tương ứng.\r\n3. Căn cứ trên kết quả phân loại trình độ ngoại ngữ đầu vào, sinh viên được xét miễn học các học phần theo quy định và được xếp lớp học ngoại ngữ tương ứng.\r\n4. Sinh viên không đáp ứng điều kiện phân loại trình độ ngoại ngữ theo khoản 1 hoặc khoản 2 của điều này sẽ phải học toàn bộ các học phần ngoại ngữ tương ứng với từng chương trình đào tạo theo lộ trình quy định.",
         "Sau khi được phân loại trình độ ngoại ngữ, sinh viên sẽ được sắp xếp vào các lớp học như thế nào và việc phân loại này có thể mang lại lợi ích gì cho quá trình học tập của họ?"
        ],
        [
         "25",
         "398526",
         "Yêu cầu về Ngoại Ngữ 2021",
         "QUY ĐỊNH: Phân loại trình độ đầu vào và chương trình môn học và chuẩn ngoại ngữ yêu cầu đối với sinh viên đại học hệ chính quy",
         "Điều 2. Phân loại trình độ đầu vào và phân lớp học ngoại ngữ",
         "1. Căn cứ phân loại trình độ ngoại ngữ đầu vào với sinh viên thuộc chương trình đào tạo có yêu cầu chuẩn đầu ra là tiếng Anh:\r\na, Đối với các sinh viên thuộc chương trình đào tạo chuẩn: phân loại dựa trên điểm thi môn tiếng Anh của kỳ thi tốt nghiệp THPT tại năm nhập học hoặc chứng chỉ tiếng Anh quốc tế;\r\nb, Đối với các sinh viên thuộc các chương trình đào tạo tiên tiến, tài năng và chương trình hợp tác quốc tế: phân loại dựa trên kết quả kiểm tra tiếng Anh nội bộ đầu khóa hoặc chứng chỉ tiếng Anh quốc tế;\r\n2. Căn cứ phân loại trình độ ngoại ngữ đầu vào với sinh viên thuộc chương trình đào tạo có yêu cầu chuẩn đầu ra là ngoại ngữ khác tiếng Anh:phân loại dựa trên điểm thi môn ngoại ngữ tương ứng của kỳ thi tốt nghiệp THPT tại năm nhập học hoặc dựa trên chứng chỉ quốc tế của ngôn ngữ tương ứng.\r\n3. Căn cứ trên kết quả phân loại trình độ ngoại ngữ đầu vào, sinh viên được xét miễn học các học phần theo quy định và được xếp lớp học ngoại ngữ tương ứng.\r\n4. Sinh viên không đáp ứng điều kiện phân loại trình độ ngoại ngữ theo khoản 1 hoặc khoản 2 của điều này sẽ phải học toàn bộ các học phần ngoại ngữ tương ứng với từng chương trình đào tạo theo lộ trình quy định.",
         "Trong trường hợp sinh viên không đạt yêu cầu về trình độ ngoại ngữ đầu vào, họ sẽ cần phải thực hiện những bước học tập nào tiếp theo để đáp ứng chuẩn đầu ra của chương trình đào tạo?"
        ],
        [
         "27",
         "398526",
         "Yêu cầu về Ngoại Ngữ 2021",
         "QUY ĐỊNH: Phân loại trình độ đầu vào và chương trình môn học và chuẩn ngoại ngữ yêu cầu đối với sinh viên đại học hệ chính quy",
         "Điều 2. Phân loại trình độ đầu vào và phân lớp học ngoại ngữ",
         "1. Căn cứ phân loại trình độ ngoại ngữ đầu vào với sinh viên thuộc chương trình đào tạo có yêu cầu chuẩn đầu ra là tiếng Anh:\r\na, Đối với các sinh viên thuộc chương trình đào tạo chuẩn: phân loại dựa trên điểm thi môn tiếng Anh của kỳ thi tốt nghiệp THPT tại năm nhập học hoặc chứng chỉ tiếng Anh quốc tế;\r\nb, Đối với các sinh viên thuộc các chương trình đào tạo tiên tiến, tài năng và chương trình hợp tác quốc tế: phân loại dựa trên kết quả kiểm tra tiếng Anh nội bộ đầu khóa hoặc chứng chỉ tiếng Anh quốc tế;\r\n2. Căn cứ phân loại trình độ ngoại ngữ đầu vào với sinh viên thuộc chương trình đào tạo có yêu cầu chuẩn đầu ra là ngoại ngữ khác tiếng Anh:phân loại dựa trên điểm thi môn ngoại ngữ tương ứng của kỳ thi tốt nghiệp THPT tại năm nhập học hoặc dựa trên chứng chỉ quốc tế của ngôn ngữ tương ứng.\r\n3. Căn cứ trên kết quả phân loại trình độ ngoại ngữ đầu vào, sinh viên được xét miễn học các học phần theo quy định và được xếp lớp học ngoại ngữ tương ứng.\r\n4. Sinh viên không đáp ứng điều kiện phân loại trình độ ngoại ngữ theo khoản 1 hoặc khoản 2 của điều này sẽ phải học toàn bộ các học phần ngoại ngữ tương ứng với từng chương trình đào tạo theo lộ trình quy định.",
         "Ngoài tiếng Anh, quy định về phân loại trình độ ngoại ngữ đầu vào còn áp dụng cho những ngôn ngữ nào khác và tiêu chí phân loại cho các ngôn ngữ này có tương tự như tiếng Anh không?"
        ],
        [
         "29",
         "398526",
         "Yêu cầu về Ngoại Ngữ 2021",
         "QUY ĐỊNH: Phân loại trình độ đầu vào và chương trình môn học và chuẩn ngoại ngữ yêu cầu đối với sinh viên đại học hệ chính quy",
         "Điều 2. Phân loại trình độ đầu vào và phân lớp học ngoại ngữ",
         "1. Căn cứ phân loại trình độ ngoại ngữ đầu vào với sinh viên thuộc chương trình đào tạo có yêu cầu chuẩn đầu ra là tiếng Anh:\r\na, Đối với các sinh viên thuộc chương trình đào tạo chuẩn: phân loại dựa trên điểm thi môn tiếng Anh của kỳ thi tốt nghiệp THPT tại năm nhập học hoặc chứng chỉ tiếng Anh quốc tế;\r\nb, Đối với các sinh viên thuộc các chương trình đào tạo tiên tiến, tài năng và chương trình hợp tác quốc tế: phân loại dựa trên kết quả kiểm tra tiếng Anh nội bộ đầu khóa hoặc chứng chỉ tiếng Anh quốc tế;\r\n2. Căn cứ phân loại trình độ ngoại ngữ đầu vào với sinh viên thuộc chương trình đào tạo có yêu cầu chuẩn đầu ra là ngoại ngữ khác tiếng Anh:phân loại dựa trên điểm thi môn ngoại ngữ tương ứng của kỳ thi tốt nghiệp THPT tại năm nhập học hoặc dựa trên chứng chỉ quốc tế của ngôn ngữ tương ứng.\r\n3. Căn cứ trên kết quả phân loại trình độ ngoại ngữ đầu vào, sinh viên được xét miễn học các học phần theo quy định và được xếp lớp học ngoại ngữ tương ứng.\r\n4. Sinh viên không đáp ứng điều kiện phân loại trình độ ngoại ngữ theo khoản 1 hoặc khoản 2 của điều này sẽ phải học toàn bộ các học phần ngoại ngữ tương ứng với từng chương trình đào tạo theo lộ trình quy định.",
         "Việc nhà trường thực hiện phân loại trình độ ngoại ngữ đầu vào cho sinh viên mới nhập học có mục đích chính là gì, và hoạt động này đóng vai trò như thế nào trong việc nâng cao chất lượng đào tạo ngoại ngữ?"
        ],
        [
         "31",
         "398526",
         "Yêu cầu về Ngoại Ngữ 2021",
         "QUY ĐỊNH: Phân loại trình độ đầu vào và chương trình môn học và chuẩn ngoại ngữ yêu cầu đối với sinh viên đại học hệ chính quy",
         "Điều 2. Phân loại trình độ đầu vào và phân lớp học ngoại ngữ",
         "1. Căn cứ phân loại trình độ ngoại ngữ đầu vào với sinh viên thuộc chương trình đào tạo có yêu cầu chuẩn đầu ra là tiếng Anh:\r\na, Đối với các sinh viên thuộc chương trình đào tạo chuẩn: phân loại dựa trên điểm thi môn tiếng Anh của kỳ thi tốt nghiệp THPT tại năm nhập học hoặc chứng chỉ tiếng Anh quốc tế;\r\nb, Đối với các sinh viên thuộc các chương trình đào tạo tiên tiến, tài năng và chương trình hợp tác quốc tế: phân loại dựa trên kết quả kiểm tra tiếng Anh nội bộ đầu khóa hoặc chứng chỉ tiếng Anh quốc tế;\r\n2. Căn cứ phân loại trình độ ngoại ngữ đầu vào với sinh viên thuộc chương trình đào tạo có yêu cầu chuẩn đầu ra là ngoại ngữ khác tiếng Anh:phân loại dựa trên điểm thi môn ngoại ngữ tương ứng của kỳ thi tốt nghiệp THPT tại năm nhập học hoặc dựa trên chứng chỉ quốc tế của ngôn ngữ tương ứng.\r\n3. Căn cứ trên kết quả phân loại trình độ ngoại ngữ đầu vào, sinh viên được xét miễn học các học phần theo quy định và được xếp lớp học ngoại ngữ tương ứng.\r\n4. Sinh viên không đáp ứng điều kiện phân loại trình độ ngoại ngữ theo khoản 1 hoặc khoản 2 của điều này sẽ phải học toàn bộ các học phần ngoại ngữ tương ứng với từng chương trình đào tạo theo lộ trình quy định.",
         "Quy trình phân loại trình độ ngoại ngữ đầu vào này được áp dụng cho tất cả sinh viên đại học hệ chính quy hay chỉ dành cho một số đối tượng nhất định?"
        ],
        [
         "33",
         "398526",
         "Yêu cầu về Ngoại Ngữ 2021",
         "QUY ĐỊNH: Phân loại trình độ đầu vào và chương trình môn học và chuẩn ngoại ngữ yêu cầu đối với sinh viên đại học hệ chính quy",
         "Điều 2. Phân loại trình độ đầu vào và phân lớp học ngoại ngữ",
         "1. Căn cứ phân loại trình độ ngoại ngữ đầu vào với sinh viên thuộc chương trình đào tạo có yêu cầu chuẩn đầu ra là tiếng Anh:\r\na, Đối với các sinh viên thuộc chương trình đào tạo chuẩn: phân loại dựa trên điểm thi môn tiếng Anh của kỳ thi tốt nghiệp THPT tại năm nhập học hoặc chứng chỉ tiếng Anh quốc tế;\r\nb, Đối với các sinh viên thuộc các chương trình đào tạo tiên tiến, tài năng và chương trình hợp tác quốc tế: phân loại dựa trên kết quả kiểm tra tiếng Anh nội bộ đầu khóa hoặc chứng chỉ tiếng Anh quốc tế;\r\n2. Căn cứ phân loại trình độ ngoại ngữ đầu vào với sinh viên thuộc chương trình đào tạo có yêu cầu chuẩn đầu ra là ngoại ngữ khác tiếng Anh:phân loại dựa trên điểm thi môn ngoại ngữ tương ứng của kỳ thi tốt nghiệp THPT tại năm nhập học hoặc dựa trên chứng chỉ quốc tế của ngôn ngữ tương ứng.\r\n3. Căn cứ trên kết quả phân loại trình độ ngoại ngữ đầu vào, sinh viên được xét miễn học các học phần theo quy định và được xếp lớp học ngoại ngữ tương ứng.\r\n4. Sinh viên không đáp ứng điều kiện phân loại trình độ ngoại ngữ theo khoản 1 hoặc khoản 2 của điều này sẽ phải học toàn bộ các học phần ngoại ngữ tương ứng với từng chương trình đào tạo theo lộ trình quy định.",
         "Nếu sinh viên có nhiều chứng chỉ ngoại ngữ khác nhau, ví dụ như cả chứng chỉ quốc tế và điểm thi THPT, thì trường sẽ sử dụng tiêu chí nào để ưu tiên xét duyệt trong quá trình phân loại trình độ?"
        ],
        [
         "35",
         "398526",
         "Yêu cầu về Ngoại Ngữ 2021",
         "QUY ĐỊNH: Phân loại trình độ đầu vào và chương trình môn học và chuẩn ngoại ngữ yêu cầu đối với sinh viên đại học hệ chính quy",
         "Điều 2. Phân loại trình độ đầu vào và phân lớp học ngoại ngữ",
         "1. Căn cứ phân loại trình độ ngoại ngữ đầu vào với sinh viên thuộc chương trình đào tạo có yêu cầu chuẩn đầu ra là tiếng Anh:\r\na, Đối với các sinh viên thuộc chương trình đào tạo chuẩn: phân loại dựa trên điểm thi môn tiếng Anh của kỳ thi tốt nghiệp THPT tại năm nhập học hoặc chứng chỉ tiếng Anh quốc tế;\r\nb, Đối với các sinh viên thuộc các chương trình đào tạo tiên tiến, tài năng và chương trình hợp tác quốc tế: phân loại dựa trên kết quả kiểm tra tiếng Anh nội bộ đầu khóa hoặc chứng chỉ tiếng Anh quốc tế;\r\n2. Căn cứ phân loại trình độ ngoại ngữ đầu vào với sinh viên thuộc chương trình đào tạo có yêu cầu chuẩn đầu ra là ngoại ngữ khác tiếng Anh:phân loại dựa trên điểm thi môn ngoại ngữ tương ứng của kỳ thi tốt nghiệp THPT tại năm nhập học hoặc dựa trên chứng chỉ quốc tế của ngôn ngữ tương ứng.\r\n3. Căn cứ trên kết quả phân loại trình độ ngoại ngữ đầu vào, sinh viên được xét miễn học các học phần theo quy định và được xếp lớp học ngoại ngữ tương ứng.\r\n4. Sinh viên không đáp ứng điều kiện phân loại trình độ ngoại ngữ theo khoản 1 hoặc khoản 2 của điều này sẽ phải học toàn bộ các học phần ngoại ngữ tương ứng với từng chương trình đào tạo theo lộ trình quy định.",
         "Đối với sinh viên muốn theo học một ngôn ngữ khác ngoài tiếng Anh, ví dụ như tiếng Pháp hoặc tiếng Nhật, quy trình phân loại trình độ đầu vào của họ có những điểm gì cần lưu ý so với quy trình phân loại tiếng Anh?"
        ],
        [
         "37",
         "398526",
         "Yêu cầu về Ngoại Ngữ 2021",
         "QUY ĐỊNH: Phân loại trình độ đầu vào và chương trình môn học và chuẩn ngoại ngữ yêu cầu đối với sinh viên đại học hệ chính quy",
         "Điều 2. Phân loại trình độ đầu vào và phân lớp học ngoại ngữ",
         "1. Căn cứ phân loại trình độ ngoại ngữ đầu vào với sinh viên thuộc chương trình đào tạo có yêu cầu chuẩn đầu ra là tiếng Anh:\r\na, Đối với các sinh viên thuộc chương trình đào tạo chuẩn: phân loại dựa trên điểm thi môn tiếng Anh của kỳ thi tốt nghiệp THPT tại năm nhập học hoặc chứng chỉ tiếng Anh quốc tế;\r\nb, Đối với các sinh viên thuộc các chương trình đào tạo tiên tiến, tài năng và chương trình hợp tác quốc tế: phân loại dựa trên kết quả kiểm tra tiếng Anh nội bộ đầu khóa hoặc chứng chỉ tiếng Anh quốc tế;\r\n2. Căn cứ phân loại trình độ ngoại ngữ đầu vào với sinh viên thuộc chương trình đào tạo có yêu cầu chuẩn đầu ra là ngoại ngữ khác tiếng Anh:phân loại dựa trên điểm thi môn ngoại ngữ tương ứng của kỳ thi tốt nghiệp THPT tại năm nhập học hoặc dựa trên chứng chỉ quốc tế của ngôn ngữ tương ứng.\r\n3. Căn cứ trên kết quả phân loại trình độ ngoại ngữ đầu vào, sinh viên được xét miễn học các học phần theo quy định và được xếp lớp học ngoại ngữ tương ứng.\r\n4. Sinh viên không đáp ứng điều kiện phân loại trình độ ngoại ngữ theo khoản 1 hoặc khoản 2 của điều này sẽ phải học toàn bộ các học phần ngoại ngữ tương ứng với từng chương trình đào tạo theo lộ trình quy định.",
         "Theo bạn, việc phân loại trình độ ngoại ngữ đầu vào có ý nghĩa như thế nào đối với việc đảm bảo chất lượng đào tạo và quyền lợi học tập của sinh viên trong môi trường đại học hiện nay?"
        ],
        [
         "38",
         "846209",
         "Yêu cầu về Ngoại Ngữ 2021",
         "QUY ĐỊNH: Phân loại trình độ đầu vào và chương trình môn học và chuẩn ngoại ngữ yêu cầu đối với sinh viên đại học hệ chính quy",
         "Điều 3. Công nhận, xét miễn học phần ngoại ngữ",
         "1. Tất cả các học phần ngoại ngữ tương ứng với từng chương trình đào tạo là các học phần bắt buộc. Nhà trường sẽ đăng ký các học phần ngoại ngữ theo kế hoạch học tập chuẩn cho các sinh viên.\r\n2. Trong quá trình học tập, nếu sinh viên đạt được chứng chỉ ngoại ngữ theo quy định sẽ được xét miễn các học phần ngoại ngữ tương ứng với trình độ đạt được. Các học phần được miễn sẽ được ghi điểm R trong bảng điểm.\r\n3. Chứng chỉ ngoại ngữ để xét miễn học phần phải còn hạn theo quy định tính tới thời điểm nộp đơn xét miễn. Danh sách chứng chỉ và các học phần được miễn được ghi trong các phụ lục tương ứng kèm theo Quy định này.\r\n4. Toàn bộ các chứng chỉ ngoại ngữ quốc gia, quốc tế phải được thẩm định nguồn gốc và cập nhật mức điểm lên hệ thống phần mềm quản lý đào tạo trước thời điểm nộp đơn đề nghị xét miễn học phần ngoại ngữ.\r\n5. Thời gian tiếp nhận đơn đề nghị xét miễn học phần ngoại ngữ muộn nhất là 2 tuần trước khi bắt đầu học kỳ theo Khung kế hoạch thời gian của năm học.",
         "Sinh viên có bắt buộc phải tham gia các lớp học ngoại ngữ trong suốt quá trình học đại học hay không, hay đây là một lựa chọn tùy ý?"
        ],
        [
         "40",
         "846209",
         "Yêu cầu về Ngoại Ngữ 2021",
         "QUY ĐỊNH: Phân loại trình độ đầu vào và chương trình môn học và chuẩn ngoại ngữ yêu cầu đối với sinh viên đại học hệ chính quy",
         "Điều 3. Công nhận, xét miễn học phần ngoại ngữ",
         "1. Tất cả các học phần ngoại ngữ tương ứng với từng chương trình đào tạo là các học phần bắt buộc. Nhà trường sẽ đăng ký các học phần ngoại ngữ theo kế hoạch học tập chuẩn cho các sinh viên.\r\n2. Trong quá trình học tập, nếu sinh viên đạt được chứng chỉ ngoại ngữ theo quy định sẽ được xét miễn các học phần ngoại ngữ tương ứng với trình độ đạt được. Các học phần được miễn sẽ được ghi điểm R trong bảng điểm.\r\n3. Chứng chỉ ngoại ngữ để xét miễn học phần phải còn hạn theo quy định tính tới thời điểm nộp đơn xét miễn. Danh sách chứng chỉ và các học phần được miễn được ghi trong các phụ lục tương ứng kèm theo Quy định này.\r\n4. Toàn bộ các chứng chỉ ngoại ngữ quốc gia, quốc tế phải được thẩm định nguồn gốc và cập nhật mức điểm lên hệ thống phần mềm quản lý đào tạo trước thời điểm nộp đơn đề nghị xét miễn học phần ngoại ngữ.\r\n5. Thời gian tiếp nhận đơn đề nghị xét miễn học phần ngoại ngữ muộn nhất là 2 tuần trước khi bắt đầu học kỳ theo Khung kế hoạch thời gian của năm học.",
         "Trong chương trình đào tạo tiêu chuẩn của một trường đại học, các học phần ngoại ngữ thường được tổ chức và sắp xếp cho sinh viên như thế nào để đảm bảo tính hiệu quả và phù hợp?"
        ],
        [
         "42",
         "846209",
         "Yêu cầu về Ngoại Ngữ 2021",
         "QUY ĐỊNH: Phân loại trình độ đầu vào và chương trình môn học và chuẩn ngoại ngữ yêu cầu đối với sinh viên đại học hệ chính quy",
         "Điều 3. Công nhận, xét miễn học phần ngoại ngữ",
         "1. Tất cả các học phần ngoại ngữ tương ứng với từng chương trình đào tạo là các học phần bắt buộc. Nhà trường sẽ đăng ký các học phần ngoại ngữ theo kế hoạch học tập chuẩn cho các sinh viên.\r\n2. Trong quá trình học tập, nếu sinh viên đạt được chứng chỉ ngoại ngữ theo quy định sẽ được xét miễn các học phần ngoại ngữ tương ứng với trình độ đạt được. Các học phần được miễn sẽ được ghi điểm R trong bảng điểm.\r\n3. Chứng chỉ ngoại ngữ để xét miễn học phần phải còn hạn theo quy định tính tới thời điểm nộp đơn xét miễn. Danh sách chứng chỉ và các học phần được miễn được ghi trong các phụ lục tương ứng kèm theo Quy định này.\r\n4. Toàn bộ các chứng chỉ ngoại ngữ quốc gia, quốc tế phải được thẩm định nguồn gốc và cập nhật mức điểm lên hệ thống phần mềm quản lý đào tạo trước thời điểm nộp đơn đề nghị xét miễn học phần ngoại ngữ.\r\n5. Thời gian tiếp nhận đơn đề nghị xét miễn học phần ngoại ngữ muộn nhất là 2 tuần trước khi bắt đầu học kỳ theo Khung kế hoạch thời gian của năm học.",
         "Nếu sinh viên có các chứng chỉ ngoại ngữ đạt chuẩn và được công nhận bởi nhà trường, họ sẽ nhận được những ưu đãi hoặc lợi ích gì liên quan đến chương trình học của mình?"
        ],
        [
         "44",
         "846209",
         "Yêu cầu về Ngoại Ngữ 2021",
         "QUY ĐỊNH: Phân loại trình độ đầu vào và chương trình môn học và chuẩn ngoại ngữ yêu cầu đối với sinh viên đại học hệ chính quy",
         "Điều 3. Công nhận, xét miễn học phần ngoại ngữ",
         "1. Tất cả các học phần ngoại ngữ tương ứng với từng chương trình đào tạo là các học phần bắt buộc. Nhà trường sẽ đăng ký các học phần ngoại ngữ theo kế hoạch học tập chuẩn cho các sinh viên.\r\n2. Trong quá trình học tập, nếu sinh viên đạt được chứng chỉ ngoại ngữ theo quy định sẽ được xét miễn các học phần ngoại ngữ tương ứng với trình độ đạt được. Các học phần được miễn sẽ được ghi điểm R trong bảng điểm.\r\n3. Chứng chỉ ngoại ngữ để xét miễn học phần phải còn hạn theo quy định tính tới thời điểm nộp đơn xét miễn. Danh sách chứng chỉ và các học phần được miễn được ghi trong các phụ lục tương ứng kèm theo Quy định này.\r\n4. Toàn bộ các chứng chỉ ngoại ngữ quốc gia, quốc tế phải được thẩm định nguồn gốc và cập nhật mức điểm lên hệ thống phần mềm quản lý đào tạo trước thời điểm nộp đơn đề nghị xét miễn học phần ngoại ngữ.\r\n5. Thời gian tiếp nhận đơn đề nghị xét miễn học phần ngoại ngữ muộn nhất là 2 tuần trước khi bắt đầu học kỳ theo Khung kế hoạch thời gian của năm học.",
         "Trong bảng điểm chính thức của sinh viên, ký hiệu \"R\" thường được sử dụng để biểu thị điều gì đối với các môn học ngoại ngữ mà sinh viên đã đăng ký?"
        ],
        [
         "46",
         "846209",
         "Yêu cầu về Ngoại Ngữ 2021",
         "QUY ĐỊNH: Phân loại trình độ đầu vào và chương trình môn học và chuẩn ngoại ngữ yêu cầu đối với sinh viên đại học hệ chính quy",
         "Điều 3. Công nhận, xét miễn học phần ngoại ngữ",
         "1. Tất cả các học phần ngoại ngữ tương ứng với từng chương trình đào tạo là các học phần bắt buộc. Nhà trường sẽ đăng ký các học phần ngoại ngữ theo kế hoạch học tập chuẩn cho các sinh viên.\r\n2. Trong quá trình học tập, nếu sinh viên đạt được chứng chỉ ngoại ngữ theo quy định sẽ được xét miễn các học phần ngoại ngữ tương ứng với trình độ đạt được. Các học phần được miễn sẽ được ghi điểm R trong bảng điểm.\r\n3. Chứng chỉ ngoại ngữ để xét miễn học phần phải còn hạn theo quy định tính tới thời điểm nộp đơn xét miễn. Danh sách chứng chỉ và các học phần được miễn được ghi trong các phụ lục tương ứng kèm theo Quy định này.\r\n4. Toàn bộ các chứng chỉ ngoại ngữ quốc gia, quốc tế phải được thẩm định nguồn gốc và cập nhật mức điểm lên hệ thống phần mềm quản lý đào tạo trước thời điểm nộp đơn đề nghị xét miễn học phần ngoại ngữ.\r\n5. Thời gian tiếp nhận đơn đề nghị xét miễn học phần ngoại ngữ muộn nhất là 2 tuần trước khi bắt đầu học kỳ theo Khung kế hoạch thời gian của năm học.",
         "Có trường hợp nào chứng chỉ ngoại ngữ sinh viên đạt được bị coi là không còn giá trị sử dụng khi xét miễn các học phần tại trường đại học không?"
        ],
        [
         "48",
         "846209",
         "Yêu cầu về Ngoại Ngữ 2021",
         "QUY ĐỊNH: Phân loại trình độ đầu vào và chương trình môn học và chuẩn ngoại ngữ yêu cầu đối với sinh viên đại học hệ chính quy",
         "Điều 3. Công nhận, xét miễn học phần ngoại ngữ",
         "1. Tất cả các học phần ngoại ngữ tương ứng với từng chương trình đào tạo là các học phần bắt buộc. Nhà trường sẽ đăng ký các học phần ngoại ngữ theo kế hoạch học tập chuẩn cho các sinh viên.\r\n2. Trong quá trình học tập, nếu sinh viên đạt được chứng chỉ ngoại ngữ theo quy định sẽ được xét miễn các học phần ngoại ngữ tương ứng với trình độ đạt được. Các học phần được miễn sẽ được ghi điểm R trong bảng điểm.\r\n3. Chứng chỉ ngoại ngữ để xét miễn học phần phải còn hạn theo quy định tính tới thời điểm nộp đơn xét miễn. Danh sách chứng chỉ và các học phần được miễn được ghi trong các phụ lục tương ứng kèm theo Quy định này.\r\n4. Toàn bộ các chứng chỉ ngoại ngữ quốc gia, quốc tế phải được thẩm định nguồn gốc và cập nhật mức điểm lên hệ thống phần mềm quản lý đào tạo trước thời điểm nộp đơn đề nghị xét miễn học phần ngoại ngữ.\r\n5. Thời gian tiếp nhận đơn đề nghị xét miễn học phần ngoại ngữ muộn nhất là 2 tuần trước khi bắt đầu học kỳ theo Khung kế hoạch thời gian của năm học.",
         "Để biết được danh sách các loại chứng chỉ ngoại ngữ được chấp nhận và các học phần tương ứng có thể được miễn, sinh viên nên tìm kiếm thông tin này ở đâu và bằng cách nào?"
        ],
        [
         "50",
         "846209",
         "Yêu cầu về Ngoại Ngữ 2021",
         "QUY ĐỊNH: Phân loại trình độ đầu vào và chương trình môn học và chuẩn ngoại ngữ yêu cầu đối với sinh viên đại học hệ chính quy",
         "Điều 3. Công nhận, xét miễn học phần ngoại ngữ",
         "1. Tất cả các học phần ngoại ngữ tương ứng với từng chương trình đào tạo là các học phần bắt buộc. Nhà trường sẽ đăng ký các học phần ngoại ngữ theo kế hoạch học tập chuẩn cho các sinh viên.\r\n2. Trong quá trình học tập, nếu sinh viên đạt được chứng chỉ ngoại ngữ theo quy định sẽ được xét miễn các học phần ngoại ngữ tương ứng với trình độ đạt được. Các học phần được miễn sẽ được ghi điểm R trong bảng điểm.\r\n3. Chứng chỉ ngoại ngữ để xét miễn học phần phải còn hạn theo quy định tính tới thời điểm nộp đơn xét miễn. Danh sách chứng chỉ và các học phần được miễn được ghi trong các phụ lục tương ứng kèm theo Quy định này.\r\n4. Toàn bộ các chứng chỉ ngoại ngữ quốc gia, quốc tế phải được thẩm định nguồn gốc và cập nhật mức điểm lên hệ thống phần mềm quản lý đào tạo trước thời điểm nộp đơn đề nghị xét miễn học phần ngoại ngữ.\r\n5. Thời gian tiếp nhận đơn đề nghị xét miễn học phần ngoại ngữ muộn nhất là 2 tuần trước khi bắt đầu học kỳ theo Khung kế hoạch thời gian của năm học.",
         "Trước khi sử dụng chứng chỉ ngoại ngữ để xin xét miễn học phần, sinh viên cần thực hiện những thủ tục hoặc bước xác minh nào để đảm bảo chứng chỉ được chấp nhận?"
        ],
        [
         "52",
         "846209",
         "Yêu cầu về Ngoại Ngữ 2021",
         "QUY ĐỊNH: Phân loại trình độ đầu vào và chương trình môn học và chuẩn ngoại ngữ yêu cầu đối với sinh viên đại học hệ chính quy",
         "Điều 3. Công nhận, xét miễn học phần ngoại ngữ",
         "1. Tất cả các học phần ngoại ngữ tương ứng với từng chương trình đào tạo là các học phần bắt buộc. Nhà trường sẽ đăng ký các học phần ngoại ngữ theo kế hoạch học tập chuẩn cho các sinh viên.\r\n2. Trong quá trình học tập, nếu sinh viên đạt được chứng chỉ ngoại ngữ theo quy định sẽ được xét miễn các học phần ngoại ngữ tương ứng với trình độ đạt được. Các học phần được miễn sẽ được ghi điểm R trong bảng điểm.\r\n3. Chứng chỉ ngoại ngữ để xét miễn học phần phải còn hạn theo quy định tính tới thời điểm nộp đơn xét miễn. Danh sách chứng chỉ và các học phần được miễn được ghi trong các phụ lục tương ứng kèm theo Quy định này.\r\n4. Toàn bộ các chứng chỉ ngoại ngữ quốc gia, quốc tế phải được thẩm định nguồn gốc và cập nhật mức điểm lên hệ thống phần mềm quản lý đào tạo trước thời điểm nộp đơn đề nghị xét miễn học phần ngoại ngữ.\r\n5. Thời gian tiếp nhận đơn đề nghị xét miễn học phần ngoại ngữ muộn nhất là 2 tuần trước khi bắt đầu học kỳ theo Khung kế hoạch thời gian của năm học.",
         "Trường đại học có quy trình quản lý và kiểm tra như thế nào đối với các chứng chỉ ngoại ngữ quốc tế mà sinh viên nộp để xét miễn học phần, nhằm đảm bảo tính minh bạch và công bằng?"
        ],
        [
         "54",
         "846209",
         "Yêu cầu về Ngoại Ngữ 2021",
         "QUY ĐỊNH: Phân loại trình độ đầu vào và chương trình môn học và chuẩn ngoại ngữ yêu cầu đối với sinh viên đại học hệ chính quy",
         "Điều 3. Công nhận, xét miễn học phần ngoại ngữ",
         "1. Tất cả các học phần ngoại ngữ tương ứng với từng chương trình đào tạo là các học phần bắt buộc. Nhà trường sẽ đăng ký các học phần ngoại ngữ theo kế hoạch học tập chuẩn cho các sinh viên.\r\n2. Trong quá trình học tập, nếu sinh viên đạt được chứng chỉ ngoại ngữ theo quy định sẽ được xét miễn các học phần ngoại ngữ tương ứng với trình độ đạt được. Các học phần được miễn sẽ được ghi điểm R trong bảng điểm.\r\n3. Chứng chỉ ngoại ngữ để xét miễn học phần phải còn hạn theo quy định tính tới thời điểm nộp đơn xét miễn. Danh sách chứng chỉ và các học phần được miễn được ghi trong các phụ lục tương ứng kèm theo Quy định này.\r\n4. Toàn bộ các chứng chỉ ngoại ngữ quốc gia, quốc tế phải được thẩm định nguồn gốc và cập nhật mức điểm lên hệ thống phần mềm quản lý đào tạo trước thời điểm nộp đơn đề nghị xét miễn học phần ngoại ngữ.\r\n5. Thời gian tiếp nhận đơn đề nghị xét miễn học phần ngoại ngữ muộn nhất là 2 tuần trước khi bắt đầu học kỳ theo Khung kế hoạch thời gian của năm học.",
         "Thời gian cụ thể nào trong mỗi học kỳ mà sinh viên cần lưu ý để nộp đơn xin xét miễn các học phần ngoại ngữ, nhằm đảm bảo không bỏ lỡ cơ hội này?"
        ],
        [
         "56",
         "846209",
         "Yêu cầu về Ngoại Ngữ 2021",
         "QUY ĐỊNH: Phân loại trình độ đầu vào và chương trình môn học và chuẩn ngoại ngữ yêu cầu đối với sinh viên đại học hệ chính quy",
         "Điều 3. Công nhận, xét miễn học phần ngoại ngữ",
         "1. Tất cả các học phần ngoại ngữ tương ứng với từng chương trình đào tạo là các học phần bắt buộc. Nhà trường sẽ đăng ký các học phần ngoại ngữ theo kế hoạch học tập chuẩn cho các sinh viên.\r\n2. Trong quá trình học tập, nếu sinh viên đạt được chứng chỉ ngoại ngữ theo quy định sẽ được xét miễn các học phần ngoại ngữ tương ứng với trình độ đạt được. Các học phần được miễn sẽ được ghi điểm R trong bảng điểm.\r\n3. Chứng chỉ ngoại ngữ để xét miễn học phần phải còn hạn theo quy định tính tới thời điểm nộp đơn xét miễn. Danh sách chứng chỉ và các học phần được miễn được ghi trong các phụ lục tương ứng kèm theo Quy định này.\r\n4. Toàn bộ các chứng chỉ ngoại ngữ quốc gia, quốc tế phải được thẩm định nguồn gốc và cập nhật mức điểm lên hệ thống phần mềm quản lý đào tạo trước thời điểm nộp đơn đề nghị xét miễn học phần ngoại ngữ.\r\n5. Thời gian tiếp nhận đơn đề nghị xét miễn học phần ngoại ngữ muộn nhất là 2 tuần trước khi bắt đầu học kỳ theo Khung kế hoạch thời gian của năm học.",
         "Nếu sinh viên không nộp đơn xin xét miễn học phần ngoại ngữ trước thời hạn quy định, điều này sẽ ảnh hưởng như thế nào đến việc học tập và tiến độ tốt nghiệp của họ?"
        ],
        [
         "57",
         "452096",
         "Yêu cầu về Ngoại Ngữ 2021",
         "QUY ĐỊNH: Phân loại trình độ đầu vào và chương trình môn học và chuẩn ngoại ngữ yêu cầu đối với sinh viên đại học hệ chính quy",
         "Điều 4. Yêu cầu về chuẩn ngoại ngữ theo tín chỉ tích lũy và chuẩn ngoại ngữ đầu ra",
         "1. Yêu cầu về chuẩn ngoại ngữ theo số lượng tín chỉ tích lũy và chuẩn ngoại ngữ đầu ra được quy định cụ thể cho từng chương trình đào tạo tại các phụ lục tương ứng được ban hành kèm theo Quy định này.\r\n2. Kết quả thi các kỳ thi ngoại ngữ nội bộ của Đại học Bách khoa Hà Nội được công nhận để xét điều kiện chuẩn ngoại ngữ theo số lượng tín chỉ tích lũy. Riêng với các sinh viên thuộc các chương trình đào tạo tiên tiến, chương trình đào tạo tài năng và chương trình đào tạo hợp tác quốc tế phải có chứng chỉ tiếng Anh quốc tế để được xét công nhận đạt chuẩn ngoại ngữ đầu ra.\r\n3. Sinh viên được tham dự các kỳ thi tiếng Anh nội bộ của Đại học Bách khoa Hà Nội nhiều lần và được công nhận điểm thi cao nhất trong các lần thi. Kết quả thi này có giá trị công nhận trong vòng 2 năm kể từ ngày thi.",
         "Để biết được yêu cầu cụ thể về trình độ ngoại ngữ cần đạt cho chương trình học của mình, sinh viên nên tham khảo nguồn thông tin nào từ nhà trường?"
        ],
        [
         "59",
         "452096",
         "Yêu cầu về Ngoại Ngữ 2021",
         "QUY ĐỊNH: Phân loại trình độ đầu vào và chương trình môn học và chuẩn ngoại ngữ yêu cầu đối với sinh viên đại học hệ chính quy",
         "Điều 4. Yêu cầu về chuẩn ngoại ngữ theo tín chỉ tích lũy và chuẩn ngoại ngữ đầu ra",
         "1. Yêu cầu về chuẩn ngoại ngữ theo số lượng tín chỉ tích lũy và chuẩn ngoại ngữ đầu ra được quy định cụ thể cho từng chương trình đào tạo tại các phụ lục tương ứng được ban hành kèm theo Quy định này.\r\n2. Kết quả thi các kỳ thi ngoại ngữ nội bộ của Đại học Bách khoa Hà Nội được công nhận để xét điều kiện chuẩn ngoại ngữ theo số lượng tín chỉ tích lũy. Riêng với các sinh viên thuộc các chương trình đào tạo tiên tiến, chương trình đào tạo tài năng và chương trình đào tạo hợp tác quốc tế phải có chứng chỉ tiếng Anh quốc tế để được xét công nhận đạt chuẩn ngoại ngữ đầu ra.\r\n3. Sinh viên được tham dự các kỳ thi tiếng Anh nội bộ của Đại học Bách khoa Hà Nội nhiều lần và được công nhận điểm thi cao nhất trong các lần thi. Kết quả thi này có giá trị công nhận trong vòng 2 năm kể từ ngày thi.",
         "Trong trường hợp sinh viên tham gia nhiều kỳ thi ngoại ngữ nội bộ do trường tổ chức, kết quả nào sẽ được dùng để xét chuẩn ngoại ngữ?"
        ],
        [
         "61",
         "452096",
         "Yêu cầu về Ngoại Ngữ 2021",
         "QUY ĐỊNH: Phân loại trình độ đầu vào và chương trình môn học và chuẩn ngoại ngữ yêu cầu đối với sinh viên đại học hệ chính quy",
         "Điều 4. Yêu cầu về chuẩn ngoại ngữ theo tín chỉ tích lũy và chuẩn ngoại ngữ đầu ra",
         "1. Yêu cầu về chuẩn ngoại ngữ theo số lượng tín chỉ tích lũy và chuẩn ngoại ngữ đầu ra được quy định cụ thể cho từng chương trình đào tạo tại các phụ lục tương ứng được ban hành kèm theo Quy định này.\r\n2. Kết quả thi các kỳ thi ngoại ngữ nội bộ của Đại học Bách khoa Hà Nội được công nhận để xét điều kiện chuẩn ngoại ngữ theo số lượng tín chỉ tích lũy. Riêng với các sinh viên thuộc các chương trình đào tạo tiên tiến, chương trình đào tạo tài năng và chương trình đào tạo hợp tác quốc tế phải có chứng chỉ tiếng Anh quốc tế để được xét công nhận đạt chuẩn ngoại ngữ đầu ra.\r\n3. Sinh viên được tham dự các kỳ thi tiếng Anh nội bộ của Đại học Bách khoa Hà Nội nhiều lần và được công nhận điểm thi cao nhất trong các lần thi. Kết quả thi này có giá trị công nhận trong vòng 2 năm kể từ ngày thi.",
         "Thời hạn hiệu lực của chứng chỉ ngoại ngữ nội bộ được trường đại học công nhận là bao lâu kể từ ngày thi?"
        ],
        [
         "63",
         "452096",
         "Yêu cầu về Ngoại Ngữ 2021",
         "QUY ĐỊNH: Phân loại trình độ đầu vào và chương trình môn học và chuẩn ngoại ngữ yêu cầu đối với sinh viên đại học hệ chính quy",
         "Điều 4. Yêu cầu về chuẩn ngoại ngữ theo tín chỉ tích lũy và chuẩn ngoại ngữ đầu ra",
         "1. Yêu cầu về chuẩn ngoại ngữ theo số lượng tín chỉ tích lũy và chuẩn ngoại ngữ đầu ra được quy định cụ thể cho từng chương trình đào tạo tại các phụ lục tương ứng được ban hành kèm theo Quy định này.\r\n2. Kết quả thi các kỳ thi ngoại ngữ nội bộ của Đại học Bách khoa Hà Nội được công nhận để xét điều kiện chuẩn ngoại ngữ theo số lượng tín chỉ tích lũy. Riêng với các sinh viên thuộc các chương trình đào tạo tiên tiến, chương trình đào tạo tài năng và chương trình đào tạo hợp tác quốc tế phải có chứng chỉ tiếng Anh quốc tế để được xét công nhận đạt chuẩn ngoại ngữ đầu ra.\r\n3. Sinh viên được tham dự các kỳ thi tiếng Anh nội bộ của Đại học Bách khoa Hà Nội nhiều lần và được công nhận điểm thi cao nhất trong các lần thi. Kết quả thi này có giá trị công nhận trong vòng 2 năm kể từ ngày thi.",
         "Có những chương trình đào tạo đặc biệt nào mà sinh viên bắt buộc phải có chứng chỉ ngoại ngữ quốc tế để đạt chuẩn đầu ra không?"
        ],
        [
         "65",
         "452096",
         "Yêu cầu về Ngoại Ngữ 2021",
         "QUY ĐỊNH: Phân loại trình độ đầu vào và chương trình môn học và chuẩn ngoại ngữ yêu cầu đối với sinh viên đại học hệ chính quy",
         "Điều 4. Yêu cầu về chuẩn ngoại ngữ theo tín chỉ tích lũy và chuẩn ngoại ngữ đầu ra",
         "1. Yêu cầu về chuẩn ngoại ngữ theo số lượng tín chỉ tích lũy và chuẩn ngoại ngữ đầu ra được quy định cụ thể cho từng chương trình đào tạo tại các phụ lục tương ứng được ban hành kèm theo Quy định này.\r\n2. Kết quả thi các kỳ thi ngoại ngữ nội bộ của Đại học Bách khoa Hà Nội được công nhận để xét điều kiện chuẩn ngoại ngữ theo số lượng tín chỉ tích lũy. Riêng với các sinh viên thuộc các chương trình đào tạo tiên tiến, chương trình đào tạo tài năng và chương trình đào tạo hợp tác quốc tế phải có chứng chỉ tiếng Anh quốc tế để được xét công nhận đạt chuẩn ngoại ngữ đầu ra.\r\n3. Sinh viên được tham dự các kỳ thi tiếng Anh nội bộ của Đại học Bách khoa Hà Nội nhiều lần và được công nhận điểm thi cao nhất trong các lần thi. Kết quả thi này có giá trị công nhận trong vòng 2 năm kể từ ngày thi.",
         "Việc sử dụng kết quả thi ngoại ngữ nội bộ có được áp dụng cho tất cả các chương trình đào tạo tại trường đại học hay không?"
        ],
        [
         "67",
         "452096",
         "Yêu cầu về Ngoại Ngữ 2021",
         "QUY ĐỊNH: Phân loại trình độ đầu vào và chương trình môn học và chuẩn ngoại ngữ yêu cầu đối với sinh viên đại học hệ chính quy",
         "Điều 4. Yêu cầu về chuẩn ngoại ngữ theo tín chỉ tích lũy và chuẩn ngoại ngữ đầu ra",
         "1. Yêu cầu về chuẩn ngoại ngữ theo số lượng tín chỉ tích lũy và chuẩn ngoại ngữ đầu ra được quy định cụ thể cho từng chương trình đào tạo tại các phụ lục tương ứng được ban hành kèm theo Quy định này.\r\n2. Kết quả thi các kỳ thi ngoại ngữ nội bộ của Đại học Bách khoa Hà Nội được công nhận để xét điều kiện chuẩn ngoại ngữ theo số lượng tín chỉ tích lũy. Riêng với các sinh viên thuộc các chương trình đào tạo tiên tiến, chương trình đào tạo tài năng và chương trình đào tạo hợp tác quốc tế phải có chứng chỉ tiếng Anh quốc tế để được xét công nhận đạt chuẩn ngoại ngữ đầu ra.\r\n3. Sinh viên được tham dự các kỳ thi tiếng Anh nội bộ của Đại học Bách khoa Hà Nội nhiều lần và được công nhận điểm thi cao nhất trong các lần thi. Kết quả thi này có giá trị công nhận trong vòng 2 năm kể từ ngày thi.",
         "Sinh viên có thể thi lại các kỳ thi ngoại ngữ nội bộ của trường đại học không, và có giới hạn số lần thi không?"
        ],
        [
         "69",
         "452096",
         "Yêu cầu về Ngoại Ngữ 2021",
         "QUY ĐỊNH: Phân loại trình độ đầu vào và chương trình môn học và chuẩn ngoại ngữ yêu cầu đối với sinh viên đại học hệ chính quy",
         "Điều 4. Yêu cầu về chuẩn ngoại ngữ theo tín chỉ tích lũy và chuẩn ngoại ngữ đầu ra",
         "1. Yêu cầu về chuẩn ngoại ngữ theo số lượng tín chỉ tích lũy và chuẩn ngoại ngữ đầu ra được quy định cụ thể cho từng chương trình đào tạo tại các phụ lục tương ứng được ban hành kèm theo Quy định này.\r\n2. Kết quả thi các kỳ thi ngoại ngữ nội bộ của Đại học Bách khoa Hà Nội được công nhận để xét điều kiện chuẩn ngoại ngữ theo số lượng tín chỉ tích lũy. Riêng với các sinh viên thuộc các chương trình đào tạo tiên tiến, chương trình đào tạo tài năng và chương trình đào tạo hợp tác quốc tế phải có chứng chỉ tiếng Anh quốc tế để được xét công nhận đạt chuẩn ngoại ngữ đầu ra.\r\n3. Sinh viên được tham dự các kỳ thi tiếng Anh nội bộ của Đại học Bách khoa Hà Nội nhiều lần và được công nhận điểm thi cao nhất trong các lần thi. Kết quả thi này có giá trị công nhận trong vòng 2 năm kể từ ngày thi.",
         "Những yếu tố nào quyết định chuẩn ngoại ngữ đầu ra cho sinh viên, bên cạnh kết quả các kỳ thi nội bộ?"
        ],
        [
         "71",
         "452096",
         "Yêu cầu về Ngoại Ngữ 2021",
         "QUY ĐỊNH: Phân loại trình độ đầu vào và chương trình môn học và chuẩn ngoại ngữ yêu cầu đối với sinh viên đại học hệ chính quy",
         "Điều 4. Yêu cầu về chuẩn ngoại ngữ theo tín chỉ tích lũy và chuẩn ngoại ngữ đầu ra",
         "1. Yêu cầu về chuẩn ngoại ngữ theo số lượng tín chỉ tích lũy và chuẩn ngoại ngữ đầu ra được quy định cụ thể cho từng chương trình đào tạo tại các phụ lục tương ứng được ban hành kèm theo Quy định này.\r\n2. Kết quả thi các kỳ thi ngoại ngữ nội bộ của Đại học Bách khoa Hà Nội được công nhận để xét điều kiện chuẩn ngoại ngữ theo số lượng tín chỉ tích lũy. Riêng với các sinh viên thuộc các chương trình đào tạo tiên tiến, chương trình đào tạo tài năng và chương trình đào tạo hợp tác quốc tế phải có chứng chỉ tiếng Anh quốc tế để được xét công nhận đạt chuẩn ngoại ngữ đầu ra.\r\n3. Sinh viên được tham dự các kỳ thi tiếng Anh nội bộ của Đại học Bách khoa Hà Nội nhiều lần và được công nhận điểm thi cao nhất trong các lần thi. Kết quả thi này có giá trị công nhận trong vòng 2 năm kể từ ngày thi.",
         "Quy định về chuẩn ngoại ngữ của trường đại học có mục đích gì đối với quá trình học tập và phát triển của sinh viên?"
        ],
        [
         "73",
         "452096",
         "Yêu cầu về Ngoại Ngữ 2021",
         "QUY ĐỊNH: Phân loại trình độ đầu vào và chương trình môn học và chuẩn ngoại ngữ yêu cầu đối với sinh viên đại học hệ chính quy",
         "Điều 4. Yêu cầu về chuẩn ngoại ngữ theo tín chỉ tích lũy và chuẩn ngoại ngữ đầu ra",
         "1. Yêu cầu về chuẩn ngoại ngữ theo số lượng tín chỉ tích lũy và chuẩn ngoại ngữ đầu ra được quy định cụ thể cho từng chương trình đào tạo tại các phụ lục tương ứng được ban hành kèm theo Quy định này.\r\n2. Kết quả thi các kỳ thi ngoại ngữ nội bộ của Đại học Bách khoa Hà Nội được công nhận để xét điều kiện chuẩn ngoại ngữ theo số lượng tín chỉ tích lũy. Riêng với các sinh viên thuộc các chương trình đào tạo tiên tiến, chương trình đào tạo tài năng và chương trình đào tạo hợp tác quốc tế phải có chứng chỉ tiếng Anh quốc tế để được xét công nhận đạt chuẩn ngoại ngữ đầu ra.\r\n3. Sinh viên được tham dự các kỳ thi tiếng Anh nội bộ của Đại học Bách khoa Hà Nội nhiều lần và được công nhận điểm thi cao nhất trong các lần thi. Kết quả thi này có giá trị công nhận trong vòng 2 năm kể từ ngày thi.",
         "Sự khác biệt về yêu cầu chuẩn ngoại ngữ giữa các chương trình đào tạo khác nhau phản ánh điều gì về định hướng đào tạo của trường?"
        ],
        [
         "75",
         "452096",
         "Yêu cầu về Ngoại Ngữ 2021",
         "QUY ĐỊNH: Phân loại trình độ đầu vào và chương trình môn học và chuẩn ngoại ngữ yêu cầu đối với sinh viên đại học hệ chính quy",
         "Điều 4. Yêu cầu về chuẩn ngoại ngữ theo tín chỉ tích lũy và chuẩn ngoại ngữ đầu ra",
         "1. Yêu cầu về chuẩn ngoại ngữ theo số lượng tín chỉ tích lũy và chuẩn ngoại ngữ đầu ra được quy định cụ thể cho từng chương trình đào tạo tại các phụ lục tương ứng được ban hành kèm theo Quy định này.\r\n2. Kết quả thi các kỳ thi ngoại ngữ nội bộ của Đại học Bách khoa Hà Nội được công nhận để xét điều kiện chuẩn ngoại ngữ theo số lượng tín chỉ tích lũy. Riêng với các sinh viên thuộc các chương trình đào tạo tiên tiến, chương trình đào tạo tài năng và chương trình đào tạo hợp tác quốc tế phải có chứng chỉ tiếng Anh quốc tế để được xét công nhận đạt chuẩn ngoại ngữ đầu ra.\r\n3. Sinh viên được tham dự các kỳ thi tiếng Anh nội bộ của Đại học Bách khoa Hà Nội nhiều lần và được công nhận điểm thi cao nhất trong các lần thi. Kết quả thi này có giá trị công nhận trong vòng 2 năm kể từ ngày thi.",
         "Nếu sinh viên không đạt chuẩn ngoại ngữ theo quy định, điều này sẽ ảnh hưởng như thế nào đến việc học tập của họ?"
        ],
        [
         "76",
         "174952",
         "Yêu cầu về Ngoại Ngữ 2021",
         "QUY ĐỊNH: Phân loại trình độ đầu vào và chương trình môn học và chuẩn ngoại ngữ yêu cầu đối với sinh viên đại học hệ chính quy",
         "Điều 5. Hạn chế khối lượng học tập trong trường hợp không đạt chuẩn ngoại ngữ theo tín chỉ tích lũy và điều kiện gỡ bỏ hạn chế",
         "1. Sinh viên không đạt chuẩn ngoại ngữ quy định theo số lượng tín chỉ tích lũy sẽ chỉ được đăng ký tối đa 14 tín chỉ và tối thiểu 8 tín chỉ cho một học kỳ chính, tương ứng với quy định tại Điều 19 của quy chế đào tạo chính quy.\r\n2. Điều kiện gỡ bỏ hạn chế khối lượng học tập:\r\na, Chỉ áp dụng với sinh viên các chương tình đào tạo chuẩn , đào tạo tài năng, đào tạo tiên tiến và quốc tế với chuẩn ngoại ngữ đầu ra là tiếng Anh và đang ở trong trạng thái bị hạn chế khối lượng học tập theo quy định tại mục 1 của điều này.\r\nb, Sinh viên được gỡ bỏ mức hạn chế khối lượng học tập hoặc được tiếp tục học tập nếu đã đăng ký học tại Trường ít nhất 90 tiết học các học phần tiếng Anh bổ trợ. Các học phần tiếng Anh bổ trợ được đăng ký học phải đảm bảo tương đương với trình độ tiếng Anh yêu cầu trong học kỳ cần gỡ bỏ hạn chế khối lượng học tập.\r\nc, Yêu cầu về chuyên cần khi tham gia học các học phần tiếng Anh bổ trợ: sinh viên cần đảm bảo tham dự tối thiểu 80% số tiết học yêu cầu của mỗi học phần. Những sinh viên không đảm bảo điều kiện chuyên cần với bất cứ học phần tiếng Anh bổ trợ nào đã đăng ký sẽ bị áp dụng mức hạn chế khối lượng học tập ở học kỳ kế tiếp.\r\nd, Điều kiện gỡ bỏ giới hạn khối lượng học tập không áp dụng cho các trường hợp sinh viên bị cảnh báo học tập, xét nhận đồ án tốt nghiệp/khóa luận tốt nghiệp, xét tốt nghiệp",
         "Trong một hệ thống giáo dục, giới hạn tín chỉ đăng ký tối đa và tối thiểu cho một học kỳ chính có thể được áp dụng trong trường hợp nào?"
        ],
        [
         "78",
         "174952",
         "Yêu cầu về Ngoại Ngữ 2021",
         "QUY ĐỊNH: Phân loại trình độ đầu vào và chương trình môn học và chuẩn ngoại ngữ yêu cầu đối với sinh viên đại học hệ chính quy",
         "Điều 5. Hạn chế khối lượng học tập trong trường hợp không đạt chuẩn ngoại ngữ theo tín chỉ tích lũy và điều kiện gỡ bỏ hạn chế",
         "1. Sinh viên không đạt chuẩn ngoại ngữ quy định theo số lượng tín chỉ tích lũy sẽ chỉ được đăng ký tối đa 14 tín chỉ và tối thiểu 8 tín chỉ cho một học kỳ chính, tương ứng với quy định tại Điều 19 của quy chế đào tạo chính quy.\r\n2. Điều kiện gỡ bỏ hạn chế khối lượng học tập:\r\na, Chỉ áp dụng với sinh viên các chương tình đào tạo chuẩn , đào tạo tài năng, đào tạo tiên tiến và quốc tế với chuẩn ngoại ngữ đầu ra là tiếng Anh và đang ở trong trạng thái bị hạn chế khối lượng học tập theo quy định tại mục 1 của điều này.\r\nb, Sinh viên được gỡ bỏ mức hạn chế khối lượng học tập hoặc được tiếp tục học tập nếu đã đăng ký học tại Trường ít nhất 90 tiết học các học phần tiếng Anh bổ trợ. Các học phần tiếng Anh bổ trợ được đăng ký học phải đảm bảo tương đương với trình độ tiếng Anh yêu cầu trong học kỳ cần gỡ bỏ hạn chế khối lượng học tập.\r\nc, Yêu cầu về chuyên cần khi tham gia học các học phần tiếng Anh bổ trợ: sinh viên cần đảm bảo tham dự tối thiểu 80% số tiết học yêu cầu của mỗi học phần. Những sinh viên không đảm bảo điều kiện chuyên cần với bất cứ học phần tiếng Anh bổ trợ nào đã đăng ký sẽ bị áp dụng mức hạn chế khối lượng học tập ở học kỳ kế tiếp.\r\nd, Điều kiện gỡ bỏ giới hạn khối lượng học tập không áp dụng cho các trường hợp sinh viên bị cảnh báo học tập, xét nhận đồ án tốt nghiệp/khóa luận tốt nghiệp, xét tốt nghiệp",
         "Để được xem xét dỡ bỏ các ràng buộc về số lượng môn học được phép đăng ký, người học cần thỏa mãn những tiêu chí cơ bản nào?"
        ],
        [
         "80",
         "174952",
         "Yêu cầu về Ngoại Ngữ 2021",
         "QUY ĐỊNH: Phân loại trình độ đầu vào và chương trình môn học và chuẩn ngoại ngữ yêu cầu đối với sinh viên đại học hệ chính quy",
         "Điều 5. Hạn chế khối lượng học tập trong trường hợp không đạt chuẩn ngoại ngữ theo tín chỉ tích lũy và điều kiện gỡ bỏ hạn chế",
         "1. Sinh viên không đạt chuẩn ngoại ngữ quy định theo số lượng tín chỉ tích lũy sẽ chỉ được đăng ký tối đa 14 tín chỉ và tối thiểu 8 tín chỉ cho một học kỳ chính, tương ứng với quy định tại Điều 19 của quy chế đào tạo chính quy.\r\n2. Điều kiện gỡ bỏ hạn chế khối lượng học tập:\r\na, Chỉ áp dụng với sinh viên các chương tình đào tạo chuẩn , đào tạo tài năng, đào tạo tiên tiến và quốc tế với chuẩn ngoại ngữ đầu ra là tiếng Anh và đang ở trong trạng thái bị hạn chế khối lượng học tập theo quy định tại mục 1 của điều này.\r\nb, Sinh viên được gỡ bỏ mức hạn chế khối lượng học tập hoặc được tiếp tục học tập nếu đã đăng ký học tại Trường ít nhất 90 tiết học các học phần tiếng Anh bổ trợ. Các học phần tiếng Anh bổ trợ được đăng ký học phải đảm bảo tương đương với trình độ tiếng Anh yêu cầu trong học kỳ cần gỡ bỏ hạn chế khối lượng học tập.\r\nc, Yêu cầu về chuyên cần khi tham gia học các học phần tiếng Anh bổ trợ: sinh viên cần đảm bảo tham dự tối thiểu 80% số tiết học yêu cầu của mỗi học phần. Những sinh viên không đảm bảo điều kiện chuyên cần với bất cứ học phần tiếng Anh bổ trợ nào đã đăng ký sẽ bị áp dụng mức hạn chế khối lượng học tập ở học kỳ kế tiếp.\r\nd, Điều kiện gỡ bỏ giới hạn khối lượng học tập không áp dụng cho các trường hợp sinh viên bị cảnh báo học tập, xét nhận đồ án tốt nghiệp/khóa luận tốt nghiệp, xét tốt nghiệp",
         "Nếu một cá nhân tham gia các lớp học phụ đạo để đáp ứng một yêu cầu cụ thể, nhưng không đảm bảo số buổi tham gia tối thiểu, thì hệ quả có thể là gì?"
        ],
        [
         "82",
         "174952",
         "Yêu cầu về Ngoại Ngữ 2021",
         "QUY ĐỊNH: Phân loại trình độ đầu vào và chương trình môn học và chuẩn ngoại ngữ yêu cầu đối với sinh viên đại học hệ chính quy",
         "Điều 5. Hạn chế khối lượng học tập trong trường hợp không đạt chuẩn ngoại ngữ theo tín chỉ tích lũy và điều kiện gỡ bỏ hạn chế",
         "1. Sinh viên không đạt chuẩn ngoại ngữ quy định theo số lượng tín chỉ tích lũy sẽ chỉ được đăng ký tối đa 14 tín chỉ và tối thiểu 8 tín chỉ cho một học kỳ chính, tương ứng với quy định tại Điều 19 của quy chế đào tạo chính quy.\r\n2. Điều kiện gỡ bỏ hạn chế khối lượng học tập:\r\na, Chỉ áp dụng với sinh viên các chương tình đào tạo chuẩn , đào tạo tài năng, đào tạo tiên tiến và quốc tế với chuẩn ngoại ngữ đầu ra là tiếng Anh và đang ở trong trạng thái bị hạn chế khối lượng học tập theo quy định tại mục 1 của điều này.\r\nb, Sinh viên được gỡ bỏ mức hạn chế khối lượng học tập hoặc được tiếp tục học tập nếu đã đăng ký học tại Trường ít nhất 90 tiết học các học phần tiếng Anh bổ trợ. Các học phần tiếng Anh bổ trợ được đăng ký học phải đảm bảo tương đương với trình độ tiếng Anh yêu cầu trong học kỳ cần gỡ bỏ hạn chế khối lượng học tập.\r\nc, Yêu cầu về chuyên cần khi tham gia học các học phần tiếng Anh bổ trợ: sinh viên cần đảm bảo tham dự tối thiểu 80% số tiết học yêu cầu của mỗi học phần. Những sinh viên không đảm bảo điều kiện chuyên cần với bất cứ học phần tiếng Anh bổ trợ nào đã đăng ký sẽ bị áp dụng mức hạn chế khối lượng học tập ở học kỳ kế tiếp.\r\nd, Điều kiện gỡ bỏ giới hạn khối lượng học tập không áp dụng cho các trường hợp sinh viên bị cảnh báo học tập, xét nhận đồ án tốt nghiệp/khóa luận tốt nghiệp, xét tốt nghiệp",
         "Thông thường, khi tham gia một chương trình học bổ trợ để đạt được một mục tiêu nhất định, yêu cầu về mức độ tham gia tối thiểu được quy định như thế nào?"
        ],
        [
         "84",
         "174952",
         "Yêu cầu về Ngoại Ngữ 2021",
         "QUY ĐỊNH: Phân loại trình độ đầu vào và chương trình môn học và chuẩn ngoại ngữ yêu cầu đối với sinh viên đại học hệ chính quy",
         "Điều 5. Hạn chế khối lượng học tập trong trường hợp không đạt chuẩn ngoại ngữ theo tín chỉ tích lũy và điều kiện gỡ bỏ hạn chế",
         "1. Sinh viên không đạt chuẩn ngoại ngữ quy định theo số lượng tín chỉ tích lũy sẽ chỉ được đăng ký tối đa 14 tín chỉ và tối thiểu 8 tín chỉ cho một học kỳ chính, tương ứng với quy định tại Điều 19 của quy chế đào tạo chính quy.\r\n2. Điều kiện gỡ bỏ hạn chế khối lượng học tập:\r\na, Chỉ áp dụng với sinh viên các chương tình đào tạo chuẩn , đào tạo tài năng, đào tạo tiên tiến và quốc tế với chuẩn ngoại ngữ đầu ra là tiếng Anh và đang ở trong trạng thái bị hạn chế khối lượng học tập theo quy định tại mục 1 của điều này.\r\nb, Sinh viên được gỡ bỏ mức hạn chế khối lượng học tập hoặc được tiếp tục học tập nếu đã đăng ký học tại Trường ít nhất 90 tiết học các học phần tiếng Anh bổ trợ. Các học phần tiếng Anh bổ trợ được đăng ký học phải đảm bảo tương đương với trình độ tiếng Anh yêu cầu trong học kỳ cần gỡ bỏ hạn chế khối lượng học tập.\r\nc, Yêu cầu về chuyên cần khi tham gia học các học phần tiếng Anh bổ trợ: sinh viên cần đảm bảo tham dự tối thiểu 80% số tiết học yêu cầu của mỗi học phần. Những sinh viên không đảm bảo điều kiện chuyên cần với bất cứ học phần tiếng Anh bổ trợ nào đã đăng ký sẽ bị áp dụng mức hạn chế khối lượng học tập ở học kỳ kế tiếp.\r\nd, Điều kiện gỡ bỏ giới hạn khối lượng học tập không áp dụng cho các trường hợp sinh viên bị cảnh báo học tập, xét nhận đồ án tốt nghiệp/khóa luận tốt nghiệp, xét tốt nghiệp",
         "Trong các loại hình đào tạo khác nhau, những chương trình nào thường có các quy định đặc biệt liên quan đến yêu cầu ngoại ngữ và giới hạn học tập?"
        ],
        [
         "86",
         "174952",
         "Yêu cầu về Ngoại Ngữ 2021",
         "QUY ĐỊNH: Phân loại trình độ đầu vào và chương trình môn học và chuẩn ngoại ngữ yêu cầu đối với sinh viên đại học hệ chính quy",
         "Điều 5. Hạn chế khối lượng học tập trong trường hợp không đạt chuẩn ngoại ngữ theo tín chỉ tích lũy và điều kiện gỡ bỏ hạn chế",
         "1. Sinh viên không đạt chuẩn ngoại ngữ quy định theo số lượng tín chỉ tích lũy sẽ chỉ được đăng ký tối đa 14 tín chỉ và tối thiểu 8 tín chỉ cho một học kỳ chính, tương ứng với quy định tại Điều 19 của quy chế đào tạo chính quy.\r\n2. Điều kiện gỡ bỏ hạn chế khối lượng học tập:\r\na, Chỉ áp dụng với sinh viên các chương tình đào tạo chuẩn , đào tạo tài năng, đào tạo tiên tiến và quốc tế với chuẩn ngoại ngữ đầu ra là tiếng Anh và đang ở trong trạng thái bị hạn chế khối lượng học tập theo quy định tại mục 1 của điều này.\r\nb, Sinh viên được gỡ bỏ mức hạn chế khối lượng học tập hoặc được tiếp tục học tập nếu đã đăng ký học tại Trường ít nhất 90 tiết học các học phần tiếng Anh bổ trợ. Các học phần tiếng Anh bổ trợ được đăng ký học phải đảm bảo tương đương với trình độ tiếng Anh yêu cầu trong học kỳ cần gỡ bỏ hạn chế khối lượng học tập.\r\nc, Yêu cầu về chuyên cần khi tham gia học các học phần tiếng Anh bổ trợ: sinh viên cần đảm bảo tham dự tối thiểu 80% số tiết học yêu cầu của mỗi học phần. Những sinh viên không đảm bảo điều kiện chuyên cần với bất cứ học phần tiếng Anh bổ trợ nào đã đăng ký sẽ bị áp dụng mức hạn chế khối lượng học tập ở học kỳ kế tiếp.\r\nd, Điều kiện gỡ bỏ giới hạn khối lượng học tập không áp dụng cho các trường hợp sinh viên bị cảnh báo học tập, xét nhận đồ án tốt nghiệp/khóa luận tốt nghiệp, xét tốt nghiệp",
         "Việc giới hạn số lượng môn học mà một người được phép đăng ký trong một học kỳ, dựa trên một tiêu chí cụ thể, thường nhằm mục đích gì?"
        ],
        [
         "88",
         "174952",
         "Yêu cầu về Ngoại Ngữ 2021",
         "QUY ĐỊNH: Phân loại trình độ đầu vào và chương trình môn học và chuẩn ngoại ngữ yêu cầu đối với sinh viên đại học hệ chính quy",
         "Điều 5. Hạn chế khối lượng học tập trong trường hợp không đạt chuẩn ngoại ngữ theo tín chỉ tích lũy và điều kiện gỡ bỏ hạn chế",
         "1. Sinh viên không đạt chuẩn ngoại ngữ quy định theo số lượng tín chỉ tích lũy sẽ chỉ được đăng ký tối đa 14 tín chỉ và tối thiểu 8 tín chỉ cho một học kỳ chính, tương ứng với quy định tại Điều 19 của quy chế đào tạo chính quy.\r\n2. Điều kiện gỡ bỏ hạn chế khối lượng học tập:\r\na, Chỉ áp dụng với sinh viên các chương tình đào tạo chuẩn , đào tạo tài năng, đào tạo tiên tiến và quốc tế với chuẩn ngoại ngữ đầu ra là tiếng Anh và đang ở trong trạng thái bị hạn chế khối lượng học tập theo quy định tại mục 1 của điều này.\r\nb, Sinh viên được gỡ bỏ mức hạn chế khối lượng học tập hoặc được tiếp tục học tập nếu đã đăng ký học tại Trường ít nhất 90 tiết học các học phần tiếng Anh bổ trợ. Các học phần tiếng Anh bổ trợ được đăng ký học phải đảm bảo tương đương với trình độ tiếng Anh yêu cầu trong học kỳ cần gỡ bỏ hạn chế khối lượng học tập.\r\nc, Yêu cầu về chuyên cần khi tham gia học các học phần tiếng Anh bổ trợ: sinh viên cần đảm bảo tham dự tối thiểu 80% số tiết học yêu cầu của mỗi học phần. Những sinh viên không đảm bảo điều kiện chuyên cần với bất cứ học phần tiếng Anh bổ trợ nào đã đăng ký sẽ bị áp dụng mức hạn chế khối lượng học tập ở học kỳ kế tiếp.\r\nd, Điều kiện gỡ bỏ giới hạn khối lượng học tập không áp dụng cho các trường hợp sinh viên bị cảnh báo học tập, xét nhận đồ án tốt nghiệp/khóa luận tốt nghiệp, xét tốt nghiệp",
         "Trong trường hợp một cá nhân không đạt được một tiêu chuẩn nhất định dựa trên số đơn vị học tập đã hoàn thành, hệ thống giáo dục có thể áp dụng biện pháp gì?"
        ],
        [
         "90",
         "174952",
         "Yêu cầu về Ngoại Ngữ 2021",
         "QUY ĐỊNH: Phân loại trình độ đầu vào và chương trình môn học và chuẩn ngoại ngữ yêu cầu đối với sinh viên đại học hệ chính quy",
         "Điều 5. Hạn chế khối lượng học tập trong trường hợp không đạt chuẩn ngoại ngữ theo tín chỉ tích lũy và điều kiện gỡ bỏ hạn chế",
         "1. Sinh viên không đạt chuẩn ngoại ngữ quy định theo số lượng tín chỉ tích lũy sẽ chỉ được đăng ký tối đa 14 tín chỉ và tối thiểu 8 tín chỉ cho một học kỳ chính, tương ứng với quy định tại Điều 19 của quy chế đào tạo chính quy.\r\n2. Điều kiện gỡ bỏ hạn chế khối lượng học tập:\r\na, Chỉ áp dụng với sinh viên các chương tình đào tạo chuẩn , đào tạo tài năng, đào tạo tiên tiến và quốc tế với chuẩn ngoại ngữ đầu ra là tiếng Anh và đang ở trong trạng thái bị hạn chế khối lượng học tập theo quy định tại mục 1 của điều này.\r\nb, Sinh viên được gỡ bỏ mức hạn chế khối lượng học tập hoặc được tiếp tục học tập nếu đã đăng ký học tại Trường ít nhất 90 tiết học các học phần tiếng Anh bổ trợ. Các học phần tiếng Anh bổ trợ được đăng ký học phải đảm bảo tương đương với trình độ tiếng Anh yêu cầu trong học kỳ cần gỡ bỏ hạn chế khối lượng học tập.\r\nc, Yêu cầu về chuyên cần khi tham gia học các học phần tiếng Anh bổ trợ: sinh viên cần đảm bảo tham dự tối thiểu 80% số tiết học yêu cầu của mỗi học phần. Những sinh viên không đảm bảo điều kiện chuyên cần với bất cứ học phần tiếng Anh bổ trợ nào đã đăng ký sẽ bị áp dụng mức hạn chế khối lượng học tập ở học kỳ kế tiếp.\r\nd, Điều kiện gỡ bỏ giới hạn khối lượng học tập không áp dụng cho các trường hợp sinh viên bị cảnh báo học tập, xét nhận đồ án tốt nghiệp/khóa luận tốt nghiệp, xét tốt nghiệp",
         "Có những tình huống đặc biệt nào mà các quy định về việc dỡ bỏ giới hạn học tập thường không được áp dụng, và lý do cho sự loại trừ này là gì?"
        ],
        [
         "92",
         "174952",
         "Yêu cầu về Ngoại Ngữ 2021",
         "QUY ĐỊNH: Phân loại trình độ đầu vào và chương trình môn học và chuẩn ngoại ngữ yêu cầu đối với sinh viên đại học hệ chính quy",
         "Điều 5. Hạn chế khối lượng học tập trong trường hợp không đạt chuẩn ngoại ngữ theo tín chỉ tích lũy và điều kiện gỡ bỏ hạn chế",
         "1. Sinh viên không đạt chuẩn ngoại ngữ quy định theo số lượng tín chỉ tích lũy sẽ chỉ được đăng ký tối đa 14 tín chỉ và tối thiểu 8 tín chỉ cho một học kỳ chính, tương ứng với quy định tại Điều 19 của quy chế đào tạo chính quy.\r\n2. Điều kiện gỡ bỏ hạn chế khối lượng học tập:\r\na, Chỉ áp dụng với sinh viên các chương tình đào tạo chuẩn , đào tạo tài năng, đào tạo tiên tiến và quốc tế với chuẩn ngoại ngữ đầu ra là tiếng Anh và đang ở trong trạng thái bị hạn chế khối lượng học tập theo quy định tại mục 1 của điều này.\r\nb, Sinh viên được gỡ bỏ mức hạn chế khối lượng học tập hoặc được tiếp tục học tập nếu đã đăng ký học tại Trường ít nhất 90 tiết học các học phần tiếng Anh bổ trợ. Các học phần tiếng Anh bổ trợ được đăng ký học phải đảm bảo tương đương với trình độ tiếng Anh yêu cầu trong học kỳ cần gỡ bỏ hạn chế khối lượng học tập.\r\nc, Yêu cầu về chuyên cần khi tham gia học các học phần tiếng Anh bổ trợ: sinh viên cần đảm bảo tham dự tối thiểu 80% số tiết học yêu cầu của mỗi học phần. Những sinh viên không đảm bảo điều kiện chuyên cần với bất cứ học phần tiếng Anh bổ trợ nào đã đăng ký sẽ bị áp dụng mức hạn chế khối lượng học tập ở học kỳ kế tiếp.\r\nd, Điều kiện gỡ bỏ giới hạn khối lượng học tập không áp dụng cho các trường hợp sinh viên bị cảnh báo học tập, xét nhận đồ án tốt nghiệp/khóa luận tốt nghiệp, xét tốt nghiệp",
         "Khi một người học các khóa học bổ sung để đáp ứng một điều kiện nào đó, các khóa học này cần phải tương đương với trình độ nào để được công nhận?"
        ],
        [
         "94",
         "174952",
         "Yêu cầu về Ngoại Ngữ 2021",
         "QUY ĐỊNH: Phân loại trình độ đầu vào và chương trình môn học và chuẩn ngoại ngữ yêu cầu đối với sinh viên đại học hệ chính quy",
         "Điều 5. Hạn chế khối lượng học tập trong trường hợp không đạt chuẩn ngoại ngữ theo tín chỉ tích lũy và điều kiện gỡ bỏ hạn chế",
         "1. Sinh viên không đạt chuẩn ngoại ngữ quy định theo số lượng tín chỉ tích lũy sẽ chỉ được đăng ký tối đa 14 tín chỉ và tối thiểu 8 tín chỉ cho một học kỳ chính, tương ứng với quy định tại Điều 19 của quy chế đào tạo chính quy.\r\n2. Điều kiện gỡ bỏ hạn chế khối lượng học tập:\r\na, Chỉ áp dụng với sinh viên các chương tình đào tạo chuẩn , đào tạo tài năng, đào tạo tiên tiến và quốc tế với chuẩn ngoại ngữ đầu ra là tiếng Anh và đang ở trong trạng thái bị hạn chế khối lượng học tập theo quy định tại mục 1 của điều này.\r\nb, Sinh viên được gỡ bỏ mức hạn chế khối lượng học tập hoặc được tiếp tục học tập nếu đã đăng ký học tại Trường ít nhất 90 tiết học các học phần tiếng Anh bổ trợ. Các học phần tiếng Anh bổ trợ được đăng ký học phải đảm bảo tương đương với trình độ tiếng Anh yêu cầu trong học kỳ cần gỡ bỏ hạn chế khối lượng học tập.\r\nc, Yêu cầu về chuyên cần khi tham gia học các học phần tiếng Anh bổ trợ: sinh viên cần đảm bảo tham dự tối thiểu 80% số tiết học yêu cầu của mỗi học phần. Những sinh viên không đảm bảo điều kiện chuyên cần với bất cứ học phần tiếng Anh bổ trợ nào đã đăng ký sẽ bị áp dụng mức hạn chế khối lượng học tập ở học kỳ kế tiếp.\r\nd, Điều kiện gỡ bỏ giới hạn khối lượng học tập không áp dụng cho các trường hợp sinh viên bị cảnh báo học tập, xét nhận đồ án tốt nghiệp/khóa luận tốt nghiệp, xét tốt nghiệp",
         "Để đáp ứng yêu cầu về việc học thêm một môn học nào đó, thông thường cần phải đăng ký tham gia tối thiểu bao nhiêu thời lượng học?"
        ]
       ],
       "shape": {
        "columns": 6,
        "rows": 1491
       }
      },
      "text/html": [
       "<div>\n",
       "<style scoped>\n",
       "    .dataframe tbody tr th:only-of-type {\n",
       "        vertical-align: middle;\n",
       "    }\n",
       "\n",
       "    .dataframe tbody tr th {\n",
       "        vertical-align: top;\n",
       "    }\n",
       "\n",
       "    .dataframe thead th {\n",
       "        text-align: right;\n",
       "    }\n",
       "</style>\n",
       "<table border=\"1\" class=\"dataframe\">\n",
       "  <thead>\n",
       "    <tr style=\"text-align: right;\">\n",
       "      <th></th>\n",
       "      <th>id</th>\n",
       "      <th>from</th>\n",
       "      <th>chapter</th>\n",
       "      <th>section</th>\n",
       "      <th>content</th>\n",
       "      <th>questions</th>\n",
       "    </tr>\n",
       "  </thead>\n",
       "  <tbody>\n",
       "    <tr>\n",
       "      <th>0</th>\n",
       "      <td>937148</td>\n",
       "      <td>Yêu cầu về Ngoại Ngữ 2021</td>\n",
       "      <td>QUY ĐỊNH: Phân loại trình độ đầu vào và chương...</td>\n",
       "      <td>Điều 1. Phạm vi và đối tượng áp dụng</td>\n",
       "      <td>1. Văn bản này quy định về công tác tổ chức đá...</td>\n",
       "      <td>Đâu là những yếu tố chính thường được đề cập đ...</td>\n",
       "    </tr>\n",
       "    <tr>\n",
       "      <th>2</th>\n",
       "      <td>937148</td>\n",
       "      <td>Yêu cầu về Ngoại Ngữ 2021</td>\n",
       "      <td>QUY ĐỊNH: Phân loại trình độ đầu vào và chương...</td>\n",
       "      <td>Điều 1. Phạm vi và đối tượng áp dụng</td>\n",
       "      <td>1. Văn bản này quy định về công tác tổ chức đá...</td>\n",
       "      <td>Những quy định về ngoại ngữ trong môi trường đ...</td>\n",
       "    </tr>\n",
       "    <tr>\n",
       "      <th>4</th>\n",
       "      <td>937148</td>\n",
       "      <td>Yêu cầu về Ngoại Ngữ 2021</td>\n",
       "      <td>QUY ĐỊNH: Phân loại trình độ đầu vào và chương...</td>\n",
       "      <td>Điều 1. Phạm vi và đối tượng áp dụng</td>\n",
       "      <td>1. Văn bản này quy định về công tác tổ chức đá...</td>\n",
       "      <td>Ngoài việc quy định về chuẩn đầu ra, một văn b...</td>\n",
       "    </tr>\n",
       "    <tr>\n",
       "      <th>6</th>\n",
       "      <td>937148</td>\n",
       "      <td>Yêu cầu về Ngoại Ngữ 2021</td>\n",
       "      <td>QUY ĐỊNH: Phân loại trình độ đầu vào và chương...</td>\n",
       "      <td>Điều 1. Phạm vi và đối tượng áp dụng</td>\n",
       "      <td>1. Văn bản này quy định về công tác tổ chức đá...</td>\n",
       "      <td>Trong hệ thống giáo dục đại học, việc phân loạ...</td>\n",
       "    </tr>\n",
       "    <tr>\n",
       "      <th>8</th>\n",
       "      <td>937148</td>\n",
       "      <td>Yêu cầu về Ngoại Ngữ 2021</td>\n",
       "      <td>QUY ĐỊNH: Phân loại trình độ đầu vào và chương...</td>\n",
       "      <td>Điều 1. Phạm vi và đối tượng áp dụng</td>\n",
       "      <td>1. Văn bản này quy định về công tác tổ chức đá...</td>\n",
       "      <td>Những sinh viên thuộc hệ đào tạo chính quy tại...</td>\n",
       "    </tr>\n",
       "    <tr>\n",
       "      <th>...</th>\n",
       "      <td>...</td>\n",
       "      <td>...</td>\n",
       "      <td>...</td>\n",
       "      <td>...</td>\n",
       "      <td>...</td>\n",
       "      <td>...</td>\n",
       "    </tr>\n",
       "    <tr>\n",
       "      <th>2788</th>\n",
       "      <td>503781</td>\n",
       "      <td>Quy chế từ 2023</td>\n",
       "      <td>CHƯƠNG VI TỔ CHỨC THỰC HIỆN</td>\n",
       "      <td>Điều 47. Hiệu lực thi hành</td>\n",
       "      <td>1. Quy chế này được áp dụng từ năm học 2023-20...</td>\n",
       "      <td>Trong quy chế mới, những nội dung nào không đư...</td>\n",
       "    </tr>\n",
       "    <tr>\n",
       "      <th>2790</th>\n",
       "      <td>503781</td>\n",
       "      <td>Quy chế từ 2023</td>\n",
       "      <td>CHƯƠNG VI TỔ CHỨC THỰC HIỆN</td>\n",
       "      <td>Điều 47. Hiệu lực thi hành</td>\n",
       "      <td>1. Quy chế này được áp dụng từ năm học 2023-20...</td>\n",
       "      <td>Sinh viên có thể tìm hiểu thông tin chi tiết v...</td>\n",
       "    </tr>\n",
       "    <tr>\n",
       "      <th>2792</th>\n",
       "      <td>503781</td>\n",
       "      <td>Quy chế từ 2023</td>\n",
       "      <td>CHƯƠNG VI TỔ CHỨC THỰC HIỆN</td>\n",
       "      <td>Điều 47. Hiệu lực thi hành</td>\n",
       "      <td>1. Quy chế này được áp dụng từ năm học 2023-20...</td>\n",
       "      <td>Quy chế mới này có những điều chỉnh nào đáng c...</td>\n",
       "    </tr>\n",
       "    <tr>\n",
       "      <th>2794</th>\n",
       "      <td>503781</td>\n",
       "      <td>Quy chế từ 2023</td>\n",
       "      <td>CHƯƠNG VI TỔ CHỨC THỰC HIỆN</td>\n",
       "      <td>Điều 47. Hiệu lực thi hành</td>\n",
       "      <td>1. Quy chế này được áp dụng từ năm học 2023-20...</td>\n",
       "      <td>Việc quy chế mới có hiệu lực thi hành từ năm h...</td>\n",
       "    </tr>\n",
       "    <tr>\n",
       "      <th>2796</th>\n",
       "      <td>503781</td>\n",
       "      <td>Quy chế từ 2023</td>\n",
       "      <td>CHƯƠNG VI TỔ CHỨC THỰC HIỆN</td>\n",
       "      <td>Điều 47. Hiệu lực thi hành</td>\n",
       "      <td>1. Quy chế này được áp dụng từ năm học 2023-20...</td>\n",
       "      <td>Nếu sinh viên muốn tìm hiểu về toàn bộ nội dun...</td>\n",
       "    </tr>\n",
       "  </tbody>\n",
       "</table>\n",
       "<p>1491 rows × 6 columns</p>\n",
       "</div>"
      ],
      "text/plain": [
       "          id                       from  \\\n",
       "0     937148  Yêu cầu về Ngoại Ngữ 2021   \n",
       "2     937148  Yêu cầu về Ngoại Ngữ 2021   \n",
       "4     937148  Yêu cầu về Ngoại Ngữ 2021   \n",
       "6     937148  Yêu cầu về Ngoại Ngữ 2021   \n",
       "8     937148  Yêu cầu về Ngoại Ngữ 2021   \n",
       "...      ...                        ...   \n",
       "2788  503781            Quy chế từ 2023   \n",
       "2790  503781            Quy chế từ 2023   \n",
       "2792  503781            Quy chế từ 2023   \n",
       "2794  503781            Quy chế từ 2023   \n",
       "2796  503781            Quy chế từ 2023   \n",
       "\n",
       "                                                chapter  \\\n",
       "0     QUY ĐỊNH: Phân loại trình độ đầu vào và chương...   \n",
       "2     QUY ĐỊNH: Phân loại trình độ đầu vào và chương...   \n",
       "4     QUY ĐỊNH: Phân loại trình độ đầu vào và chương...   \n",
       "6     QUY ĐỊNH: Phân loại trình độ đầu vào và chương...   \n",
       "8     QUY ĐỊNH: Phân loại trình độ đầu vào và chương...   \n",
       "...                                                 ...   \n",
       "2788                        CHƯƠNG VI TỔ CHỨC THỰC HIỆN   \n",
       "2790                        CHƯƠNG VI TỔ CHỨC THỰC HIỆN   \n",
       "2792                        CHƯƠNG VI TỔ CHỨC THỰC HIỆN   \n",
       "2794                        CHƯƠNG VI TỔ CHỨC THỰC HIỆN   \n",
       "2796                        CHƯƠNG VI TỔ CHỨC THỰC HIỆN   \n",
       "\n",
       "                                   section  \\\n",
       "0     Điều 1. Phạm vi và đối tượng áp dụng   \n",
       "2     Điều 1. Phạm vi và đối tượng áp dụng   \n",
       "4     Điều 1. Phạm vi và đối tượng áp dụng   \n",
       "6     Điều 1. Phạm vi và đối tượng áp dụng   \n",
       "8     Điều 1. Phạm vi và đối tượng áp dụng   \n",
       "...                                    ...   \n",
       "2788            Điều 47. Hiệu lực thi hành   \n",
       "2790            Điều 47. Hiệu lực thi hành   \n",
       "2792            Điều 47. Hiệu lực thi hành   \n",
       "2794            Điều 47. Hiệu lực thi hành   \n",
       "2796            Điều 47. Hiệu lực thi hành   \n",
       "\n",
       "                                                content  \\\n",
       "0     1. Văn bản này quy định về công tác tổ chức đá...   \n",
       "2     1. Văn bản này quy định về công tác tổ chức đá...   \n",
       "4     1. Văn bản này quy định về công tác tổ chức đá...   \n",
       "6     1. Văn bản này quy định về công tác tổ chức đá...   \n",
       "8     1. Văn bản này quy định về công tác tổ chức đá...   \n",
       "...                                                 ...   \n",
       "2788  1. Quy chế này được áp dụng từ năm học 2023-20...   \n",
       "2790  1. Quy chế này được áp dụng từ năm học 2023-20...   \n",
       "2792  1. Quy chế này được áp dụng từ năm học 2023-20...   \n",
       "2794  1. Quy chế này được áp dụng từ năm học 2023-20...   \n",
       "2796  1. Quy chế này được áp dụng từ năm học 2023-20...   \n",
       "\n",
       "                                              questions  \n",
       "0     Đâu là những yếu tố chính thường được đề cập đ...  \n",
       "2     Những quy định về ngoại ngữ trong môi trường đ...  \n",
       "4     Ngoài việc quy định về chuẩn đầu ra, một văn b...  \n",
       "6     Trong hệ thống giáo dục đại học, việc phân loạ...  \n",
       "8     Những sinh viên thuộc hệ đào tạo chính quy tại...  \n",
       "...                                                 ...  \n",
       "2788  Trong quy chế mới, những nội dung nào không đư...  \n",
       "2790  Sinh viên có thể tìm hiểu thông tin chi tiết v...  \n",
       "2792  Quy chế mới này có những điều chỉnh nào đáng c...  \n",
       "2794  Việc quy chế mới có hiệu lực thi hành từ năm h...  \n",
       "2796  Nếu sinh viên muốn tìm hiểu về toàn bộ nội dun...  \n",
       "\n",
       "[1491 rows x 6 columns]"
      ]
     },
     "execution_count": 19,
     "metadata": {},
     "output_type": "execute_result"
    }
   ],
   "source": [
    "df"
   ]
  },
  {
   "cell_type": "code",
   "execution_count": 20,
   "id": "cdf65958",
   "metadata": {},
   "outputs": [],
   "source": [
    "df.to_csv(\"data/final_question.csv\", index=False)"
   ]
  }
 ],
 "metadata": {
  "kernelspec": {
   "display_name": "Python 3",
   "language": "python",
   "name": "python3"
  },
  "language_info": {
   "codemirror_mode": {
    "name": "ipython",
    "version": 3
   },
   "file_extension": ".py",
   "mimetype": "text/x-python",
   "name": "python",
   "nbconvert_exporter": "python",
   "pygments_lexer": "ipython3",
   "version": "3.12.9"
  }
 },
 "nbformat": 4,
 "nbformat_minor": 5
}
